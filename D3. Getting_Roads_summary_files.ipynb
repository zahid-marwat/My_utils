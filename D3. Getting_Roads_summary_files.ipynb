{
 "cells": [
  {
   "cell_type": "code",
   "execution_count": 1,
   "metadata": {},
   "outputs": [],
   "source": [
    "import os\n",
    "import glob\n",
    "import shutil\n",
    "from pathlib import Path\n",
    "import csv\n",
    "import pandas as pd\n",
    "Data_dir = r'C:\\Users\\fbpza\\Desktop\\My_utils\\Data\\KSA New Det'\n",
    "# Data_dir = r'C:\\Users\\fbpza\\Desktop\\My_utils\\Data\\Mardan\\roads'\n",
    "Output_files_directory='Data'+os.sep+'Summary files' +os.sep\n",
    "if not os.path.exists(Output_files_directory):\n",
    "    os.mkdir(Output_files_directory)"
   ]
  },
  {
   "cell_type": "code",
   "execution_count": 2,
   "metadata": {},
   "outputs": [],
   "source": [
    "def get_numerical_value(my_text):\n",
    "    \"\"\"Get numerical value from text string\"\"\"\n",
    "    import re\n",
    "    feet_units=['F','FT','FEET']\n",
    "    meter_units=['M','METER','METERS']\n",
    "    Km_units=['KM','KILOMETER','KILOMETERS']\n",
    "    unit_used = re.findall('[a-zA-Z]+', my_text)[0]\n",
    "    numeric_value = float(my_text.split(unit_used)[0])\n",
    "    \n",
    "    \n",
    "    \n",
    "    if unit_used.upper() in feet_units:\n",
    "        return (int(numeric_value * 0.3048))   #length of road in a frame in meters\n",
    "    elif unit_used.upper() in meter_units:\n",
    "        return(int(numeric_value))\n",
    "    elif unit_used.upper() in Km_units:\n",
    "        return(int(numeric_value/1000))\n",
    "    else:\n",
    "        print(\"Error: in function: (get_numerical_value) as the unit used is invalid\")"
   ]
  },
  {
   "cell_type": "code",
   "execution_count": 3,
   "metadata": {},
   "outputs": [
    {
     "name": "stdout",
     "output_type": "stream",
     "text": [
      "Road15\n",
      "C:\\Users\\fbpza\\Desktop\\My_utils\\Data\\KSA New Det\\Road15\\segments\\Segment 1\\Survey Form Segment 1.xlsx\n",
      "C:\\Users\\fbpza\\Desktop\\My_utils\\Data\\KSA New Det\\Road15\\segments\\Segment 2\\Survey Form Segment 2.xlsx\n",
      "C:\\Users\\fbpza\\Desktop\\My_utils\\Data\\KSA New Det\\Road15\\segments\\Segment 3\\Survey Form Segment 3.xlsx\n",
      "C:\\Users\\fbpza\\Desktop\\My_utils\\Data\\KSA New Det\\Road15\\segments\\Segment 4\\Survey Form Segment 4.xlsx\n",
      "C:\\Users\\fbpza\\Desktop\\My_utils\\Data\\KSA New Det\\Road15\\segments\\Segment 5\\Survey Form Segment 5.xlsx\n",
      "C:\\Users\\fbpza\\Desktop\\My_utils\\Data\\KSA New Det\\Road15\\segments\\Segment 6\\Survey Form Segment 6.xlsx\n",
      "C:\\Users\\fbpza\\Desktop\\My_utils\\Data\\KSA New Det\\Road15\\segments\\Segment 7\\Survey Form Segment 7.xlsx\n",
      "C:\\Users\\fbpza\\Desktop\\My_utils\\Data\\KSA New Det\\Road15\\segments\\Segment 8\\Survey Form Segment 8.xlsx\n",
      "C:\\Users\\fbpza\\Desktop\\My_utils\\Data\\KSA New Det\\Road15\\segments\\Segment 9\\Survey Form Segment 9.xlsx\n"
     ]
    }
   ],
   "source": [
    "roads_list=glob.glob(Data_dir+os.sep+'*')\n",
    "\n",
    "for road in roads_list:\n",
    "        \n",
    "    road_name = road.split(os.sep)[-1]\n",
    "    dir_rname = road_name\n",
    "    print(road_name)\n",
    "    segments_srvyList=glob.glob(os.path.join(road, '**', 'Survey Form'+'*.xlsx'), recursive=True)\n",
    "    total_segs = len(segments_srvyList)\n",
    "    avg_pci = 0\n",
    "    pci_sum = 0\n",
    "    rd_length = 0\n",
    "        \n",
    "    # print(segments_srvyList)\n",
    "    segs_details = []\n",
    "    for seg_srvy in segments_srvyList:\n",
    "        print(seg_srvy)\n",
    "        seg_name = seg_srvy.split(os.sep)[10]\n",
    "        dir_sname= seg_name\n",
    "\n",
    "        seg_dir  = os.path.dirname(seg_srvy)\n",
    "        areacount = glob.glob(seg_dir+os.sep+'Area_Count*.csv')[0]\n",
    "        # areacount = glob.glob(seg_dir+os.sep+'DJI_*.csv')[0]\n",
    "        \n",
    "        rd_areacount =pd.read_csv(areacount)\n",
    "        rd_survey =pd.read_excel(seg_srvy)\n",
    "        start_pt = rd_survey.iloc[11,1]\n",
    "        # print(rd_survey)\n",
    "        # print(seg_dir,' >length: ',rd_survey.iloc[7,1])\n",
    "        seg_len = get_numerical_value(rd_survey.iloc[7,1])\n",
    "        seg_PCI = rd_areacount[\"PCI\"][0]\n",
    "        \n",
    "        rd_length += seg_len\n",
    "        pci_sum += seg_PCI\n",
    "        \n",
    "        seg_width = rd_survey.iloc[8,1]\n",
    "        seg_start = rd_survey.iloc[11,1]\n",
    "        seg_end = rd_survey.iloc[12,1]\n",
    "        segs_details.append([seg_name,seg_len,seg_width,seg_PCI])\n",
    "\n",
    "    df_segs=pd.DataFrame(segs_details,columns=[\"Segments\",\"Length(m)\",\"Width\",\"PCI\"])\n",
    "    avg_pci  = round((pci_sum / total_segs),2)\n",
    "\n",
    "\n",
    "    # Save to CSV file\n",
    "    df_segs.to_csv(Output_files_directory+road_name+'_Summary_File.csv', index=False)\n"
   ]
  }
 ],
 "metadata": {
  "kernelspec": {
   "display_name": "yolov8test",
   "language": "python",
   "name": "python3"
  },
  "language_info": {
   "codemirror_mode": {
    "name": "ipython",
    "version": 3
   },
   "file_extension": ".py",
   "mimetype": "text/x-python",
   "name": "python",
   "nbconvert_exporter": "python",
   "pygments_lexer": "ipython3",
   "version": "3.10.13"
  }
 },
 "nbformat": 4,
 "nbformat_minor": 2
}
