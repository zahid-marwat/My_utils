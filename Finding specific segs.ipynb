{
 "cells": [
  {
   "cell_type": "code",
   "execution_count": null,
   "metadata": {},
   "outputs": [],
   "source": [
    "import os\n",
    "import glob\n",
    "import shutil\n",
    "from pathlib import Path\n",
    "import csv\n",
    "import pandas as pd\n",
    "Data_dir = 'Data'+os.sep+\"MIX\"+os.sep"
   ]
  },
  {
   "cell_type": "code",
   "execution_count": null,
   "metadata": {},
   "outputs": [],
   "source": [
    "def get_numerical_value(my_text):\n",
    "    \"\"\"Get numerical value from text string\"\"\"\n",
    "    import re\n",
    "    feet_units=['F','FT','FEET']\n",
    "    meter_units=['M','METER','METERS']\n",
    "    Km_units=['KM','KILOMETER','KILOMETERS']\n",
    "    unit_used = re.findall('[a-zA-Z]+', my_text)[0]\n",
    "    numeric_value = float(my_text.split(unit_used)[0])\n",
    "    \n",
    "    if unit_used.upper() in feet_units:\n",
    "        return (int(numeric_value))\n",
    "    \n",
    "    elif unit_used.upper() in meter_units:\n",
    "        return(int(numeric_value*3.28084))\n",
    "    \n",
    "    elif unit_used.upper() in Km_units:\n",
    "        return(int((numeric_value*1000)*3.28084))\n",
    "    else:\n",
    "        print(\"Error: in function: (get_numerical_value) as the unit used is invalid\")\n",
    "    "
   ]
  },
  {
   "cell_type": "code",
   "execution_count": null,
   "metadata": {},
   "outputs": [],
   "source": [
    "def get_numerical_value_in_m(my_text):\n",
    "    \"\"\"Get numerical value from text string\"\"\"\n",
    "    import re\n",
    "    feet_units=['F','FT','FEET']\n",
    "    meter_units=['M','METER','METERS']\n",
    "    Km_units=['KM','KILOMETER','KILOMETERS']\n",
    "    unit_used = re.findall('[a-zA-Z]+', my_text)[0]\n",
    "    numeric_value = float(my_text.split(unit_used)[0])\n",
    "\n",
    "    if unit_used.upper() in feet_units:\n",
    "        return (int(numeric_value * 0.3048))   #length of road in a frame in meters\n",
    "    elif unit_used.upper() in meter_units:\n",
    "        return(int(numeric_value))\n",
    "    elif unit_used.upper() in Km_units:\n",
    "        return(int(numeric_value/1000))\n",
    "    else:\n",
    "        print(\"Error: in function: (get_numerical_value) as the unit used is invalid\")"
   ]
  },
  {
   "cell_type": "code",
   "execution_count": null,
   "metadata": {},
   "outputs": [],
   "source": [
    "roads_list=glob.glob(Data_dir+'DI Khan'+os.sep+'roads'+os.sep+'*')"
   ]
  },
  {
   "cell_type": "code",
   "execution_count": null,
   "metadata": {},
   "outputs": [],
   "source": [
    "roads_details = []\n",
    "for road in roads_list:\n",
    "    road_name = road.split(os.sep)[-1]\n",
    "    print(road_name)\n",
    "    segments_srvyList=glob.glob(os.path.join(road, '**', '*.xlsx'), recursive=True)\n",
    "    segments_crackList=glob.glob(os.path.join(road, '**', 'Area_Count*'), recursive=True)\n",
    "\n",
    "\n",
    "    for seg_srvy in segments_srvyList:\n",
    "        seg_name = seg_srvy.split(os.sep)[6]\n",
    "        seg_dir  = os.path.dirname(seg_srvy)\n",
    "        areacount = glob.glob(seg_dir+os.sep+'Area_Count*.csv')[0]\n",
    "        \n",
    "        rd_areacount =pd.read_csv(areacount)\n",
    "        rd_survey =pd.read_excel(seg_srvy)\n",
    "        start_pt = rd_survey.iloc[11,1]\n",
    "\n",
    "        seg_len = get_numerical_value_in_m(rd_survey.iloc[7,1])\n",
    "        seg_PCI = rd_areacount[\"PCI\"][0]\n",
    " \n",
    "        seg_width = get_numerical_value(rd_survey.iloc[8,1])\n",
    "        seg_start = rd_survey.iloc[11,1]\n",
    "        seg_end = rd_survey.iloc[12,1]\n",
    "        \n",
    "        if seg_PCI > 70:\n",
    "            roads_details.append([road_name,seg_name,seg_len,seg_width,seg_start,seg_end,seg_PCI])\n",
    "\n",
    "\n",
    "    \n",
    "df_roads=pd.DataFrame(roads_details,columns=[\"Road\",\"Segments\",\"Length(m)\",\"Width\",\"Start Point\",\"End Point\",\"PCI\"])\n",
    "\n",
    "# Save to CSV file\n",
    "df_roads.to_csv(Data_dir+'Filtered Segments.csv', index=False)       "
   ]
  }
 ],
 "metadata": {
  "kernelspec": {
   "display_name": "yolov8test",
   "language": "python",
   "name": "python3"
  },
  "language_info": {
   "codemirror_mode": {
    "name": "ipython",
    "version": 3
   },
   "file_extension": ".py",
   "mimetype": "text/x-python",
   "name": "python",
   "nbconvert_exporter": "python",
   "pygments_lexer": "ipython3",
   "version": "3.10.13"
  }
 },
 "nbformat": 4,
 "nbformat_minor": 2
}
