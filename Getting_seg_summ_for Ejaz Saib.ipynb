{
 "cells": [
  {
   "cell_type": "code",
   "execution_count": 1,
   "metadata": {},
   "outputs": [],
   "source": [
    "import os\n",
    "import glob\n",
    "import shutil\n",
    "from pathlib import Path\n",
    "import csv\n",
    "import pandas as pd\n",
    "Data_dir = 'Data'+os.sep+\"MIX\"+os.sep"
   ]
  },
  {
   "cell_type": "code",
   "execution_count": 2,
   "metadata": {},
   "outputs": [],
   "source": [
    "def get_numerical_value(my_text):\n",
    "    \"\"\"Get numerical value from text string\"\"\"\n",
    "    import re\n",
    "    feet_units=['F','FT','FEET']\n",
    "    meter_units=['M','METER','METERS']\n",
    "    Km_units=['KM','KILOMETER','KILOMETERS']\n",
    "    unit_used = re.findall('[a-zA-Z]+', my_text)[0]\n",
    "    numeric_value = float(my_text.split(unit_used)[0])\n",
    "    \n",
    "    \n",
    "    \n",
    "    if unit_used.upper() in feet_units:\n",
    "        return (int(numeric_value * 0.3048))   #length of road in a frame in meters\n",
    "    elif unit_used.upper() in meter_units:\n",
    "        return(int(numeric_value))\n",
    "    elif unit_used.upper() in Km_units:\n",
    "        return(int(numeric_value/1000))\n",
    "    else:\n",
    "        print(\"Error: in function: (get_numerical_value) as the unit used is invalid\")"
   ]
  },
  {
   "cell_type": "code",
   "execution_count": 3,
   "metadata": {},
   "outputs": [
    {
     "name": "stdout",
     "output_type": "stream",
     "text": [
      "['Data\\\\MIX\\\\DI Khan\\\\roads\\\\Bhakkar road to basti Barseen', 'Data\\\\MIX\\\\DI Khan\\\\roads\\\\Bhakkar road to jhoke basharat', 'Data\\\\MIX\\\\DI Khan\\\\roads\\\\Chashma road to Lakhra', 'Data\\\\MIX\\\\DI Khan\\\\roads\\\\Chaudwan Kirri Shamozai Road', 'Data\\\\MIX\\\\DI Khan\\\\roads\\\\Saggu to kuhawar']\n"
     ]
    }
   ],
   "source": [
    "roads_list=glob.glob(Data_dir+'DI Khan'+os.sep+'roads'+os.sep+'*')\n",
    "print(roads_list)"
   ]
  },
  {
   "cell_type": "code",
   "execution_count": 4,
   "metadata": {},
   "outputs": [
    {
     "name": "stdout",
     "output_type": "stream",
     "text": [
      "Bhakkar road to basti Barseen\n",
      "['Data\\\\MIX\\\\DI Khan\\\\roads\\\\Bhakkar road to basti Barseen\\\\segments\\\\Segment 01\\\\Survey Form Segment 01.xlsx', 'Data\\\\MIX\\\\DI Khan\\\\roads\\\\Bhakkar road to basti Barseen\\\\segments\\\\Segment 02\\\\Survey Form Segment 02.xlsx', 'Data\\\\MIX\\\\DI Khan\\\\roads\\\\Bhakkar road to basti Barseen\\\\segments\\\\Segment 03\\\\Survey Form Segment 03.xlsx', 'Data\\\\MIX\\\\DI Khan\\\\roads\\\\Bhakkar road to basti Barseen\\\\segments\\\\Segment 04\\\\Survey Form Segment 04.xlsx', 'Data\\\\MIX\\\\DI Khan\\\\roads\\\\Bhakkar road to basti Barseen\\\\segments\\\\Segment 15\\\\Survey Form Segment 15.xlsx', 'Data\\\\MIX\\\\DI Khan\\\\roads\\\\Bhakkar road to basti Barseen\\\\segments\\\\Segment 16\\\\Survey Form Segment 16.xlsx', 'Data\\\\MIX\\\\DI Khan\\\\roads\\\\Bhakkar road to basti Barseen\\\\segments\\\\Segment 17\\\\Survey Form Segment 17.xlsx', 'Data\\\\MIX\\\\DI Khan\\\\roads\\\\Bhakkar road to basti Barseen\\\\segments\\\\Segment 18\\\\Survey Form Segment 18.xlsx']\n",
      "Bhakkar road to jhoke basharat\n",
      "['Data\\\\MIX\\\\DI Khan\\\\roads\\\\Bhakkar road to jhoke basharat\\\\segments\\\\Segment 05\\\\Survey Form Segment 05.xlsx']\n",
      "Chashma road to Lakhra\n",
      "['Data\\\\MIX\\\\DI Khan\\\\roads\\\\Chashma road to Lakhra\\\\segments\\\\Segment 05\\\\Survey Form Segment 05.xlsx']\n",
      "Chaudwan Kirri Shamozai Road\n",
      "['Data\\\\MIX\\\\DI Khan\\\\roads\\\\Chaudwan Kirri Shamozai Road\\\\segments\\\\Segment 01\\\\Survey Form Segment 01.xlsx', 'Data\\\\MIX\\\\DI Khan\\\\roads\\\\Chaudwan Kirri Shamozai Road\\\\segments\\\\Segment 02\\\\Survey Form Segment 02.xlsx', 'Data\\\\MIX\\\\DI Khan\\\\roads\\\\Chaudwan Kirri Shamozai Road\\\\segments\\\\Segment 03\\\\Survey Form Segment 03.xlsx', 'Data\\\\MIX\\\\DI Khan\\\\roads\\\\Chaudwan Kirri Shamozai Road\\\\segments\\\\Segment 04\\\\Survey Form Segment 04.xlsx', 'Data\\\\MIX\\\\DI Khan\\\\roads\\\\Chaudwan Kirri Shamozai Road\\\\segments\\\\Segment 05\\\\Survey Form Segment 05.xlsx', 'Data\\\\MIX\\\\DI Khan\\\\roads\\\\Chaudwan Kirri Shamozai Road\\\\segments\\\\Segment 06\\\\Survey Form Segment 06.xlsx', 'Data\\\\MIX\\\\DI Khan\\\\roads\\\\Chaudwan Kirri Shamozai Road\\\\segments\\\\Segment 07\\\\Survey Form Segment 07.xlsx', 'Data\\\\MIX\\\\DI Khan\\\\roads\\\\Chaudwan Kirri Shamozai Road\\\\segments\\\\Segment 08\\\\Survey Form Segment 08.xlsx', 'Data\\\\MIX\\\\DI Khan\\\\roads\\\\Chaudwan Kirri Shamozai Road\\\\segments\\\\Segment 09\\\\Survey Form Segment 09.xlsx', 'Data\\\\MIX\\\\DI Khan\\\\roads\\\\Chaudwan Kirri Shamozai Road\\\\segments\\\\Segment 10\\\\Survey Form Segment 10.xlsx', 'Data\\\\MIX\\\\DI Khan\\\\roads\\\\Chaudwan Kirri Shamozai Road\\\\segments\\\\Segment 11\\\\Survey Form Segment 11.xlsx', 'Data\\\\MIX\\\\DI Khan\\\\roads\\\\Chaudwan Kirri Shamozai Road\\\\segments\\\\Segment 12\\\\Survey Form Segment 12.xlsx', 'Data\\\\MIX\\\\DI Khan\\\\roads\\\\Chaudwan Kirri Shamozai Road\\\\segments\\\\Segment 13\\\\Survey Form Segment 13.xlsx', 'Data\\\\MIX\\\\DI Khan\\\\roads\\\\Chaudwan Kirri Shamozai Road\\\\segments\\\\Segment 14\\\\Survey Form Segment 14.xlsx', 'Data\\\\MIX\\\\DI Khan\\\\roads\\\\Chaudwan Kirri Shamozai Road\\\\segments\\\\Segment 15\\\\Survey Form Segment 15.xlsx', 'Data\\\\MIX\\\\DI Khan\\\\roads\\\\Chaudwan Kirri Shamozai Road\\\\segments\\\\Segment 16\\\\Survey Form Segment 16.xlsx', 'Data\\\\MIX\\\\DI Khan\\\\roads\\\\Chaudwan Kirri Shamozai Road\\\\segments\\\\Segment 17\\\\Survey Form Segment 17.xlsx', 'Data\\\\MIX\\\\DI Khan\\\\roads\\\\Chaudwan Kirri Shamozai Road\\\\segments\\\\Segment 18\\\\Survey Form Segment 18.xlsx', 'Data\\\\MIX\\\\DI Khan\\\\roads\\\\Chaudwan Kirri Shamozai Road\\\\segments\\\\Segment 19\\\\Survey Form Segment 19.xlsx', 'Data\\\\MIX\\\\DI Khan\\\\roads\\\\Chaudwan Kirri Shamozai Road\\\\segments\\\\Segment 20\\\\Survey Form Segment 20.xlsx', 'Data\\\\MIX\\\\DI Khan\\\\roads\\\\Chaudwan Kirri Shamozai Road\\\\segments\\\\Segment 21\\\\Survey Form Segment 21.xlsx', 'Data\\\\MIX\\\\DI Khan\\\\roads\\\\Chaudwan Kirri Shamozai Road\\\\segments\\\\Segment 22\\\\Survey Form Segment 22.xlsx', 'Data\\\\MIX\\\\DI Khan\\\\roads\\\\Chaudwan Kirri Shamozai Road\\\\segments\\\\Segment 23\\\\Survey Form Segment 23.xlsx']\n",
      "Saggu to kuhawar\n",
      "['Data\\\\MIX\\\\DI Khan\\\\roads\\\\Saggu to kuhawar\\\\segments\\\\Segment 01\\\\Survey Form Segment 01.xlsx', 'Data\\\\MIX\\\\DI Khan\\\\roads\\\\Saggu to kuhawar\\\\segments\\\\Segment 02\\\\Survey Form Segment 02.xlsx', 'Data\\\\MIX\\\\DI Khan\\\\roads\\\\Saggu to kuhawar\\\\segments\\\\Segment 03\\\\Survey Form Segment 03.xlsx', 'Data\\\\MIX\\\\DI Khan\\\\roads\\\\Saggu to kuhawar\\\\segments\\\\Segment 04\\\\Survey Form Segment 04.xlsx', 'Data\\\\MIX\\\\DI Khan\\\\roads\\\\Saggu to kuhawar\\\\segments\\\\Segment 05\\\\Survey Form Segment 05.xlsx', 'Data\\\\MIX\\\\DI Khan\\\\roads\\\\Saggu to kuhawar\\\\segments\\\\Segment 06\\\\Survey Form Segment 06.xlsx', 'Data\\\\MIX\\\\DI Khan\\\\roads\\\\Saggu to kuhawar\\\\segments\\\\Segment 07\\\\Survey Form Segment 07.xlsx', 'Data\\\\MIX\\\\DI Khan\\\\roads\\\\Saggu to kuhawar\\\\segments\\\\Segment 08\\\\Survey Form Segment 08.xlsx', 'Data\\\\MIX\\\\DI Khan\\\\roads\\\\Saggu to kuhawar\\\\segments\\\\Segment 09\\\\Survey Form Segment 09.xlsx']\n"
     ]
    }
   ],
   "source": [
    "roads_details = []\n",
    "for road in roads_list:\n",
    "    road_name = road.split(os.sep)[-1]\n",
    "    print(road_name)\n",
    "    segments_srvyList=glob.glob(os.path.join(road, '**', '*.xlsx'), recursive=True)\n",
    "    total_segs = len(segments_srvyList)\n",
    "    avg_pci = 0\n",
    "    pci_sum = 0\n",
    "    rd_length = 0\n",
    "    print(segments_srvyList)\n",
    "    segs_details = []\n",
    "    for seg_srvy in segments_srvyList:\n",
    "        seg_name = seg_srvy.split(os.sep)[5]\n",
    "        seg_dir  = os.path.dirname(seg_srvy)\n",
    "        areacount = glob.glob(seg_dir+os.sep+'Area_Count*.csv')[0]\n",
    "        \n",
    "        rd_areacount =pd.read_csv(areacount)\n",
    "        rd_survey =pd.read_excel(seg_srvy)\n",
    "        start_pt = rd_survey.iloc[11,1]\n",
    "\n",
    "        seg_len = get_numerical_value(rd_survey.iloc[7,1])\n",
    "        seg_PCI = rd_areacount[\"PCI\"][0]\n",
    "        \n",
    "        rd_length += seg_len\n",
    "        pci_sum += seg_PCI\n",
    "        \n",
    "        seg_width = rd_survey.iloc[8,1]\n",
    "        seg_start = rd_survey.iloc[11,1]\n",
    "        seg_end = rd_survey.iloc[12,1]\n",
    "        segs_details.append([seg_name,seg_len,seg_width,seg_start,seg_end,seg_PCI])\n",
    "    \n",
    "    df_segs=pd.DataFrame(segs_details,columns=[\"Segments\",\"Length(m)\",\"Width\",\"Start Point\",\"End Point\",\"PCI\"])\n",
    "    avg_pci  = round((pci_sum / total_segs),2)\n",
    "    \n",
    "    roads_details.append([road_name, rd_length, total_segs, avg_pci])\n",
    "    \n",
    "    # Save to CSV file\n",
    "    df_segs.to_csv(road+os.sep+road_name+'_Summary_File.csv', index=False)\n",
    "    \n",
    "    \n",
    "df_roads=pd.DataFrame(roads_details,columns=['Road', \"Length(m)\", \"Segments\", \"Avg PCI\"])\n",
    "# Save to CSV file\n",
    "df_roads.to_csv(Data_dir+'All Roads Summary.csv', index=False)       "
   ]
  },
  {
   "cell_type": "code",
   "execution_count": null,
   "metadata": {},
   "outputs": [],
   "source": [
    "import os"
   ]
  }
 ],
 "metadata": {
  "kernelspec": {
   "display_name": "yolov8test",
   "language": "python",
   "name": "python3"
  },
  "language_info": {
   "codemirror_mode": {
    "name": "ipython",
    "version": 3
   },
   "file_extension": ".py",
   "mimetype": "text/x-python",
   "name": "python",
   "nbconvert_exporter": "python",
   "pygments_lexer": "ipython3",
   "version": "3.10.13"
  }
 },
 "nbformat": 4,
 "nbformat_minor": 2
}
