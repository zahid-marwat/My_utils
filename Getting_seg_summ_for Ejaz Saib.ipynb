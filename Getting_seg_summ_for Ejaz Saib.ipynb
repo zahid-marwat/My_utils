{
 "cells": [
  {
   "cell_type": "code",
   "execution_count": 1,
   "metadata": {},
   "outputs": [],
   "source": [
    "import os\n",
    "import glob\n",
    "import shutil\n",
    "from pathlib import Path\n",
    "import csv\n",
    "import pandas as pd\n",
    "District=glob.glob('Data'+os.sep+\"*\")[0]"
   ]
  },
  {
   "cell_type": "code",
   "execution_count": 2,
   "metadata": {},
   "outputs": [],
   "source": [
    "roads_list=glob.glob(District+os.sep+'roads'+os.sep+'*')"
   ]
  },
  {
   "cell_type": "code",
   "execution_count": 80,
   "metadata": {},
   "outputs": [
    {
     "name": "stdout",
     "output_type": "stream",
     "text": [
      "Distry 15 to Jhoke Dadi\n",
      "From Indus Highway to Chirra Palad\n"
     ]
    }
   ],
   "source": [
    "for road in roads_list:\n",
    "    road_name = road.split(os.sep)[3]\n",
    "    print(road_name)\n",
    "    segments_srvyList=glob.glob(os.path.join(road, '**', '*.xlsx'), recursive=True)\n",
    "    seg_detail = []\n",
    "    for seg_srvy in segments_srvyList:\n",
    "        seg_name = seg_srvy.split(os.sep)[5]\n",
    "        seg_dir  = os.path.dirname(seg_srvy)\n",
    "        areacount = glob.glob(seg_dir+os.sep+'Area_Count*.csv')[0]\n",
    "        \n",
    "        rd_areacount =pd.read_csv(areacount)\n",
    "        rd_survey =pd.read_excel(seg_srvy)\n",
    "        start_pt = rd_survey.iloc[11,1]\n",
    "\n",
    "        seg_len =  rd_survey.iloc[7,1]\n",
    "        seg_PCI = rd_areacount[\"PCI\"][0]\n",
    "        seg_width = rd_survey.iloc[8,1]\n",
    "        seg_start = rd_survey.iloc[11,1]\n",
    "        seg_end = rd_survey.iloc[12,1]\n",
    "        seg_detail.append([road_name,seg_name,seg_len,seg_width,seg_start,seg_end,seg_PCI])\n",
    "    \n",
    "    dfpd=pd.DataFrame(seg_detail,columns=[\"Road\",\"Segments\",\"Length\",\"Width\",\"Start Point\",\"End Point\",\"PCI\"])\n",
    "    # Add road name as a new column to the DataFrame\n",
    "    \n",
    "    # Save to CSV file\n",
    "    dfpd.to_csv(road+os.sep+road_name+'_Summary_File.csv', index=False)\n",
    "         "
   ]
  },
  {
   "cell_type": "code",
   "execution_count": null,
   "metadata": {},
   "outputs": [],
   "source": []
  }
 ],
 "metadata": {
  "kernelspec": {
   "display_name": "yolov8test",
   "language": "python",
   "name": "python3"
  },
  "language_info": {
   "codemirror_mode": {
    "name": "ipython",
    "version": 3
   },
   "file_extension": ".py",
   "mimetype": "text/x-python",
   "name": "python",
   "nbconvert_exporter": "python",
   "pygments_lexer": "ipython3",
   "version": "3.10.13"
  }
 },
 "nbformat": 4,
 "nbformat_minor": 2
}
