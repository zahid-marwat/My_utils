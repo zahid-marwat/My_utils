{
 "cells": [
  {
   "cell_type": "code",
   "execution_count": null,
   "metadata": {},
   "outputs": [],
   "source": [
    "import os\n",
    "import shutil\n",
    "from fnmatch import fnmatch\n",
    "\n",
    "# List of video extensions you want to copy\n",
    "VIDEO_EXTENSIONS = ['*.mp4', '*.avi', '*.mkv', '*.mov']\n",
    "\n",
    "# Source and destination directories\n",
    "source_dir = r'F:\\D I Khan Phase-II B Kacha'\n",
    "dest_dir = r'G:\\Kacha B'\n",
    "\n",
    "def is_video_file(file_name):\n",
    "    \"\"\"Check if the file is a video based on its extension.\"\"\"\n",
    "    for pattern in VIDEO_EXTENSIONS:\n",
    "        if fnmatch(file_name.lower(), pattern):\n",
    "            return True\n",
    "    return False\n",
    "\n",
    "def copy_videos(source, destination):\n",
    "    \"\"\"Copy video files while maintaining directory structure.\"\"\"\n",
    "    for root, dirs, files in os.walk(source):\n",
    "        # Get the relative path from source_dir\n",
    "        rel_path = os.path.relpath(root, source)\n",
    "        dest_subdir = os.path.join(destination, rel_path)\n",
    "        \n",
    "        # Create subdirectories in the destination if they don't exist\n",
    "        if not os.path.exists(dest_subdir):\n",
    "            os.makedirs(dest_subdir)\n",
    "        \n",
    "        for file in files:\n",
    "            if is_video_file(file) and 'DJI_' not in file:\n",
    "                source_file = os.path.join(root, file)\n",
    "                dest_file = os.path.join(dest_subdir, file)\n",
    "                # Copy the video file to the corresponding folder in the destination\n",
    "                shutil.copy2(source_file, dest_file)\n",
    "                print(f\"Copied: {source_file} -> {dest_file}\")\n",
    "\n",
    "# Copy the videos while maintaining the folder structure\n",
    "copy_videos(source_dir, dest_dir)\n"
   ]
  },
  {
   "cell_type": "code",
   "execution_count": null,
   "metadata": {},
   "outputs": [],
   "source": []
  }
 ],
 "metadata": {
  "kernelspec": {
   "display_name": "myyolov8testClone",
   "language": "python",
   "name": "python3"
  },
  "language_info": {
   "codemirror_mode": {
    "name": "ipython",
    "version": 3
   },
   "file_extension": ".py",
   "mimetype": "text/x-python",
   "name": "python",
   "nbconvert_exporter": "python",
   "pygments_lexer": "ipython3",
   "version": "3.10.13"
  }
 },
 "nbformat": 4,
 "nbformat_minor": 2
}
