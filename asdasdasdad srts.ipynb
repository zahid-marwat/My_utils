{
 "cells": [
  {
   "cell_type": "code",
   "execution_count": null,
   "metadata": {},
   "outputs": [],
   "source": [
    "import os\n",
    "\n",
    "def clean_srt_file(file_path):\n",
    "    with open(file_path, 'r', encoding='utf-8') as file:\n",
    "        lines = file.readlines()\n",
    "\n",
    "    cleaned_lines = []\n",
    "    for i in range(len(lines)):\n",
    "        # If it's an empty line, check if the next line is also empty\n",
    "        if lines[i].strip() == '' and i + 1 < len(lines) and lines[i + 1].strip() == '':\n",
    "            continue  # Skip the current line if the next line is also empty\n",
    "        cleaned_lines.append(lines[i])\n",
    "\n",
    "    # Write cleaned lines back to the file\n",
    "    with open(file_path, 'w', encoding='utf-8') as file:\n",
    "        file.writelines(cleaned_lines)\n",
    "\n",
    "def clean_srt_files_in_directory(directory):\n",
    "    for root, _, files in os.walk(directory):\n",
    "        for file in files:\n",
    "            if file.endswith('.SRT'):\n",
    "                file_path = os.path.join(root, file)\n",
    "                print(f'Cleaning: {file_path}')\n",
    "                clean_srt_file(file_path)\n",
    "\n",
    "# Usage\n",
    "directory = r'C:\\Users\\fbpza\\Desktop\\KSA for Habib\\KSA For habib_dummy'\n",
    "clean_srt_files_in_directory(directory)\n"
   ]
  }
 ],
 "metadata": {
  "kernelspec": {
   "display_name": "yolov8test",
   "language": "python",
   "name": "python3"
  },
  "language_info": {
   "codemirror_mode": {
    "name": "ipython",
    "version": 3
   },
   "file_extension": ".py",
   "mimetype": "text/x-python",
   "name": "python",
   "nbconvert_exporter": "python",
   "pygments_lexer": "ipython3",
   "version": "3.10.13"
  }
 },
 "nbformat": 4,
 "nbformat_minor": 2
}
