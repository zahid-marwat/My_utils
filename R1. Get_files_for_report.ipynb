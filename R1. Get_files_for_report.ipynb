{
 "cells": [
  {
   "cell_type": "code",
   "execution_count": 1,
   "metadata": {},
   "outputs": [
    {
     "name": "stdout",
     "output_type": "stream",
     "text": [
      "Done!\n"
     ]
    }
   ],
   "source": [
    "import os\n",
    "import shutil\n",
    "from pathlib import Path\n",
    "\n",
    "# Define the extensions of video files to be identified\n",
    "VIDEO_EXTENSIONS = {\".mp4\", \".avi\", \".mov\", \".mkv\", \".flv\", \".wmv\"}\n",
    "\n",
    "def copy_with_dummy_videos(src_folder, dest_folder):\n",
    "    src_folder = Path(src_folder)\n",
    "    dest_folder = Path(dest_folder)\n",
    "    \n",
    "    for root, dirs, files in os.walk(src_folder):\n",
    "        # Calculate the relative path from source folder\n",
    "        rel_path = Path(root).relative_to(src_folder)\n",
    "        dest_path = dest_folder / rel_path\n",
    "        \n",
    "        # Create the destination folder if it doesn't exist\n",
    "        dest_path.mkdir(parents=True, exist_ok=True)\n",
    "        \n",
    "        for file in files:\n",
    "            src_file = Path(root) / file\n",
    "            dest_file = dest_path / file\n",
    "            \n",
    "            # Check if the file is a video\n",
    "            if src_file.suffix.lower() in VIDEO_EXTENSIONS:\n",
    "                # Create an empty dummy file in the destination folder\n",
    "                dest_file.touch()  # This creates an empty file\n",
    "            else:\n",
    "                # Copy the non-video file to the destination folder\n",
    "                shutil.copy2(src_file, dest_file)\n",
    "\n",
    "# Example usage\n",
    "# src_folder = \"/path/to/source/folder\"\n",
    "# src_folder = r'I:\\Mardan B Det'\n",
    "# src_folder = r'D:\\Airloop II\\Mardan Phase II\\part A'\n",
    "# src_folder = r'D:\\NETWORK SHEARING\\RND PC 002_D\\Mardan videos Data\\Mardan Phase II'\n",
    "src_folder = r'E:\\Airloop Project 2\\Swabi phase II Detected Videos\\Part A'\n",
    "\n",
    "dest_folder = \"Data/Swabi A Asphalt\"\n",
    "copy_with_dummy_videos(src_folder, dest_folder)\n",
    "print('Done!')\n"
   ]
  },
  {
   "cell_type": "code",
   "execution_count": null,
   "metadata": {},
   "outputs": [],
   "source": []
  }
 ],
 "metadata": {
  "kernelspec": {
   "display_name": "yolov8test",
   "language": "python",
   "name": "python3"
  },
  "language_info": {
   "codemirror_mode": {
    "name": "ipython",
    "version": 3
   },
   "file_extension": ".py",
   "mimetype": "text/x-python",
   "name": "python",
   "nbconvert_exporter": "python",
   "pygments_lexer": "ipython3",
   "version": "3.10.13"
  }
 },
 "nbformat": 4,
 "nbformat_minor": 2
}
