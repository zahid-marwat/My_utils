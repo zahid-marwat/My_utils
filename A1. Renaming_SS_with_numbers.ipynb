{
 "cells": [
  {
   "cell_type": "code",
   "execution_count": 1,
   "metadata": {},
   "outputs": [],
   "source": [
    "import os\n",
    "def short_road_name(road_path):\n",
    "    \"\"\"\n",
    "    Shortens the road name for path-related issues.\n",
    "\n",
    "    Args:\n",
    "        road_path (str): The path or name of the road.\n",
    "\n",
    "    Returns:\n",
    "        str: The shortened road name.\n",
    "    \"\"\"\n",
    "    short_name = ''\n",
    "    if os.path.isdir(road_path):\n",
    "        road_name = road_path.split(os.sep)[2].split('.')[-1]\n",
    "        new_name_list = road_name.split()\n",
    "        for i in range(len(new_name_list)):\n",
    "            short_name += new_name_list[i][0].upper()\n",
    "        return short_name\n",
    "    else:\n",
    "        new_name_list = road_path.split()\n",
    "        for i in range(len(new_name_list)):\n",
    "            short_name += new_name_list[i][0].upper()\n",
    "        return short_name   "
   ]
  },
  {
   "cell_type": "code",
   "execution_count": 2,
   "metadata": {},
   "outputs": [],
   "source": [
    "import glob\n",
    "import shutil\n",
    "from pathlib import Path\n",
    "roads= glob.glob('Data'+os.sep+'rename SS'+os.sep+'*')\n"
   ]
  },
  {
   "cell_type": "code",
   "execution_count": 3,
   "metadata": {},
   "outputs": [
    {
     "name": "stdout",
     "output_type": "stream",
     "text": [
      "Data\\rename SS\\51   Gham khadi road to budnai pull >>>> 1564  Screenshots\n",
      "Data\\rename SS\\52   Planderi to wireless machinan >>>> 2186  Screenshots\n",
      "Data\\rename SS\\58   Internal road sher makhy to nasar bagh road >>>> 3231  Screenshots\n",
      "Data\\rename SS\\60   BARA chowk to chagar matti Ashab Baba Rd, Pajagi >>>> 4365  Screenshots\n",
      "Data\\rename SS\\67   Zorh nehr to ghari chandan >>>> 5643  Screenshots\n",
      "Data\\rename SS\\81   Charsadda road to sewan village >>>> 6515  Screenshots\n",
      "Data\\rename SS\\89   Bacha khan chowk to nowdran bypass >>>> 8936  Screenshots\n",
      "All SET !\n"
     ]
    }
   ],
   "source": [
    "total=0\n",
    "t2=1\n",
    "for i in roads:\n",
    "    roadname= i.split(os.sep)[-1]\n",
    "    roadertn=short_road_name(i)\n",
    "    imgs_list = glob.glob(os.path.join(i, '**', '*.jpg'), recursive=True) #+ glob.glob(os.path.join(i, '**', '*.png'), recursive=True)\n",
    "    # print(roadname,\" with SS= \",len(imgs_list))\n",
    "    total += len(imgs_list)\n",
    "    t=total/1075\n",
    "    if  t > t2:\n",
    "        t2+=1\n",
    "        print(i,'>>>>',total,' Screenshots')\n",
    "    for imgg in imgs_list:\n",
    "        imagdir= os.path.dirname(imgg)\n",
    "        \n",
    "        segno=imagdir.split(os.sep)[-1].split(\" \")[-1].strip()\n",
    "        \n",
    "        oldname= imgg.split(os.sep)[-1].split('.')[0]\n",
    "        oldname= '2024' + oldname.split('2024')[-1]\n",
    "        newname= roadertn+'_S'+segno+'_'+oldname+'.jpg'\n",
    "        newpath= imagdir+os.sep+newname \n",
    "        os.rename(imgg,newpath)  \n",
    "print(\"All SET !\")"
   ]
  },
  {
   "cell_type": "code",
   "execution_count": 4,
   "metadata": {},
   "outputs": [
    {
     "data": {
      "text/plain": [
       "2234.0"
      ]
     },
     "execution_count": 4,
     "metadata": {},
     "output_type": "execute_result"
    }
   ],
   "source": [
    "total/4"
   ]
  },
  {
   "cell_type": "code",
   "execution_count": 5,
   "metadata": {},
   "outputs": [
    {
     "data": {
      "text/plain": [
       "['Data\\\\rename SS\\\\45   JAMRUD SHAGAI WARSAK ROAD',\n",
       " 'Data\\\\rename SS\\\\46   PIR BALA SHAGAI ROAD',\n",
       " 'Data\\\\rename SS\\\\51   Gham khadi road to budnai pull',\n",
       " 'Data\\\\rename SS\\\\52   Planderi to wireless machinan',\n",
       " 'Data\\\\rename SS\\\\54   Putwar paia to lakari',\n",
       " 'Data\\\\rename SS\\\\55   Shahi bala road to jumma khan kali',\n",
       " 'Data\\\\rename SS\\\\58   Internal road sher makhy to nasar bagh road',\n",
       " 'Data\\\\rename SS\\\\60   BARA chowk to chagar matti Ashab Baba Rd, Pajagi',\n",
       " 'Data\\\\rename SS\\\\61   SAIPAN CHOWK to warsak cadet college',\n",
       " 'Data\\\\rename SS\\\\62   Swat scout chowk to saipan chowk',\n",
       " 'Data\\\\rename SS\\\\65   Bara  chowk to sarfaraz kali',\n",
       " 'Data\\\\rename SS\\\\66   Bara chowk to mathra kali',\n",
       " 'Data\\\\rename SS\\\\67   Zorh nehr to ghari chandan',\n",
       " 'Data\\\\rename SS\\\\73   Arbab masjid darmanghi to warsak road',\n",
       " 'Data\\\\rename SS\\\\75   Anam sanam chowk ishrat cinema road to peshawer ring road',\n",
       " 'Data\\\\rename SS\\\\81   Charsadda road to sewan village',\n",
       " 'Data\\\\rename SS\\\\82   Shalam shakar pura mian gujar road link with daman road',\n",
       " 'Data\\\\rename SS\\\\83   Dalazak road to daman hinki road',\n",
       " 'Data\\\\rename SS\\\\84   Nasapa road',\n",
       " 'Data\\\\rename SS\\\\89   Bacha khan chowk to nowdran bypass']"
      ]
     },
     "execution_count": 5,
     "metadata": {},
     "output_type": "execute_result"
    }
   ],
   "source": [
    "roads"
   ]
  },
  {
   "cell_type": "code",
   "execution_count": null,
   "metadata": {},
   "outputs": [],
   "source": []
  }
 ],
 "metadata": {
  "kernelspec": {
   "display_name": "yolov8test",
   "language": "python",
   "name": "python3"
  },
  "language_info": {
   "codemirror_mode": {
    "name": "ipython",
    "version": 3
   },
   "file_extension": ".py",
   "mimetype": "text/x-python",
   "name": "python",
   "nbconvert_exporter": "python",
   "pygments_lexer": "ipython3",
   "version": "3.10.13"
  }
 },
 "nbformat": 4,
 "nbformat_minor": 2
}
