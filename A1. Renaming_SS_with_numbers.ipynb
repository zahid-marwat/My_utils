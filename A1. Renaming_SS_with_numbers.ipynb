{
 "cells": [
  {
   "cell_type": "code",
   "execution_count": 1,
   "metadata": {},
   "outputs": [],
   "source": [
    "import os\n",
    "def short_road_name(road_path):\n",
    "    \"\"\"\n",
    "    Shortens the road name for path-related issues.\n",
    "\n",
    "    Args:\n",
    "        road_path (str): The path or name of the road.\n",
    "\n",
    "    Returns:\n",
    "        str: The shortened road name.\n",
    "    \"\"\"\n",
    "    short_name = ''\n",
    "    if os.path.isdir(road_path):\n",
    "        road_name = road_path.split(os.sep)[2].split('.')[-1]\n",
    "        new_name_list = road_name.split()\n",
    "        for i in range(len(new_name_list)):\n",
    "            short_name += new_name_list[i][0].upper()\n",
    "        return short_name\n",
    "    else:\n",
    "        new_name_list = road_path.split()\n",
    "        for i in range(len(new_name_list)):\n",
    "            short_name += new_name_list[i][0].upper()\n",
    "        return short_name   "
   ]
  },
  {
   "cell_type": "code",
   "execution_count": 2,
   "metadata": {},
   "outputs": [],
   "source": [
    "import glob\n",
    "import shutil\n",
    "from pathlib import Path\n",
    "roads= glob.glob('Data'+os.sep+'rename SS'+os.sep+'*')\n"
   ]
  },
  {
   "cell_type": "code",
   "execution_count": 3,
   "metadata": {},
   "outputs": [
    {
     "name": "stdout",
     "output_type": "stream",
     "text": [
      "Data\\rename SS\\100   Peshawer sabzi mandi road to kohat road >>>> 1132  Screenshots\n",
      "Data\\rename SS\\104   Jhagra internal road >>>> 2315  Screenshots\n",
      "Data\\rename SS\\107   Pandhu road to pandhu deri >>>> 3306  Screenshots\n",
      "Data\\rename SS\\111   Mohalah yousaf khel urmar to jalozi shamshatu internal road >>>> 4720  Screenshots\n",
      "Data\\rename SS\\114   Urmarh payan to khatako pull >>>> 5606  Screenshots\n",
      "Data\\rename SS\\123   Forest chowk to pul palosi >>>> 6767  Screenshots\n",
      "Data\\rename SS\\142   Landi arbab chowk to rashed ghari road >>>> 8014  Screenshots\n",
      "Data\\rename SS\\153   Shahi Bala Rd >>>> 8834  Screenshots\n",
      "Data\\rename SS\\90   Dalazak road northern bypass to Motorway bridge >>>> 10305  Screenshots\n",
      "Data\\rename SS\\95   Northern bypass to Daman hinki road >>>> 10754  Screenshots\n",
      "All SET !\n"
     ]
    }
   ],
   "source": [
    "total=0\n",
    "t2=1\n",
    "for i in roads:\n",
    "    roadname= i.split(os.sep)[-1]\n",
    "    roadertn=short_road_name(i)\n",
    "    imgs_list = glob.glob(os.path.join(i, '**', '*.jpg'), recursive=True) #+ glob.glob(os.path.join(i, '**', '*.png'), recursive=True)\n",
    "    # print(roadname,\" with SS= \",len(imgs_list))\n",
    "    total += len(imgs_list)\n",
    "    t=total/1075\n",
    "    if  t > t2:\n",
    "        t2+=1\n",
    "        print(i,'>>>>',total,' Screenshots')\n",
    "    for imgg in imgs_list:\n",
    "        imagdir= os.path.dirname(imgg)\n",
    "        \n",
    "        segno=imagdir.split(os.sep)[-1].split(\" \")[-1].strip()\n",
    "        \n",
    "        oldname= imgg.split(os.sep)[-1].split('.')[0]\n",
    "        oldname= '2024' + oldname.split('2024')[-1]\n",
    "        newname= roadertn+'_S'+segno+'_'+oldname+'.jpg'\n",
    "        newpath= imagdir+os.sep+newname \n",
    "        os.rename(imgg,newpath)  \n",
    "print(\"All SET !\")"
   ]
  },
  {
   "cell_type": "code",
   "execution_count": 4,
   "metadata": {},
   "outputs": [
    {
     "data": {
      "text/plain": [
       "2234.0"
      ]
     },
     "execution_count": 4,
     "metadata": {},
     "output_type": "execute_result"
    }
   ],
   "source": [
    "total/4"
   ]
  },
  {
   "cell_type": "code",
   "execution_count": 4,
   "metadata": {},
   "outputs": [
    {
     "data": {
      "text/plain": [
       "['Data\\\\rename SS\\\\100   Peshawer sabzi mandi road to kohat road',\n",
       " 'Data\\\\rename SS\\\\102    Jalozi shamshatu to pandu road',\n",
       " 'Data\\\\rename SS\\\\103   Tarnab road to jhagra internal road',\n",
       " 'Data\\\\rename SS\\\\104   Jhagra internal road',\n",
       " 'Data\\\\rename SS\\\\105   Jhagra internal road 2',\n",
       " 'Data\\\\rename SS\\\\106   Pandhu deri to ring road',\n",
       " 'Data\\\\rename SS\\\\107   Pandhu road to pandhu deri',\n",
       " 'Data\\\\rename SS\\\\108   Pandhu road to pandhu payan',\n",
       " 'Data\\\\rename SS\\\\110   Urmarh miana to jalozi shamshatu internal road',\n",
       " 'Data\\\\rename SS\\\\111   Mohalah yousaf khel urmar to jalozi shamshatu internal road',\n",
       " 'Data\\\\rename SS\\\\113   GPS qazi abad urmar mina to  jalozi shamshatu internal road',\n",
       " 'Data\\\\rename SS\\\\114   Urmarh payan to khatako pull',\n",
       " 'Data\\\\rename SS\\\\115   Urmarh payan to khatako pull  jalozi shamshatu internal road',\n",
       " 'Data\\\\rename SS\\\\119   Tahkal to bachayano chowk',\n",
       " 'Data\\\\rename SS\\\\123   Forest chowk to pul palosi',\n",
       " 'Data\\\\rename SS\\\\126   Daag lara Palosai',\n",
       " 'Data\\\\rename SS\\\\142   Landi arbab chowk to rashed ghari road',\n",
       " 'Data\\\\rename SS\\\\152   Lala Village to Peshawar',\n",
       " 'Data\\\\rename SS\\\\153   Shahi Bala Rd',\n",
       " 'Data\\\\rename SS\\\\154   Shahi Bala To Safdar Abad RD',\n",
       " 'Data\\\\rename SS\\\\90   Dalazak road northern bypass to Motorway bridge',\n",
       " 'Data\\\\rename SS\\\\95   Northern bypass to Daman hinki road',\n",
       " 'Data\\\\rename SS\\\\96   Jhagra to chamkani police station',\n",
       " 'Data\\\\rename SS\\\\99   Tarnab to pandu road']"
      ]
     },
     "execution_count": 4,
     "metadata": {},
     "output_type": "execute_result"
    }
   ],
   "source": [
    "roads"
   ]
  },
  {
   "cell_type": "code",
   "execution_count": null,
   "metadata": {},
   "outputs": [],
   "source": []
  }
 ],
 "metadata": {
  "kernelspec": {
   "display_name": "yolov8test",
   "language": "python",
   "name": "python3"
  },
  "language_info": {
   "codemirror_mode": {
    "name": "ipython",
    "version": 3
   },
   "file_extension": ".py",
   "mimetype": "text/x-python",
   "name": "python",
   "nbconvert_exporter": "python",
   "pygments_lexer": "ipython3",
   "version": "3.10.13"
  }
 },
 "nbformat": 4,
 "nbformat_minor": 2
}
