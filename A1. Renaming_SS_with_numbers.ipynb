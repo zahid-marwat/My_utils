{
 "cells": [
  {
   "cell_type": "code",
   "execution_count": 1,
   "metadata": {},
   "outputs": [],
   "source": [
    "import os\n",
    "def short_road_name(road_path):\n",
    "    \"\"\"\n",
    "    Shortens the road name for path-related issues.\n",
    "\n",
    "    Args:\n",
    "        road_path (str): The path or name of the road.\n",
    "\n",
    "    Returns:\n",
    "        str: The shortened road name.\n",
    "    \"\"\"\n",
    "    short_name = ''\n",
    "    if os.path.isdir(road_path):\n",
    "        road_name = road_path.split(os.sep)[2].split('.')[-1]\n",
    "        new_name_list = road_name.split()\n",
    "        for i in range(len(new_name_list)):\n",
    "            short_name += new_name_list[i][0].upper()\n",
    "        return short_name\n",
    "    else:\n",
    "        new_name_list = road_path.split()\n",
    "        for i in range(len(new_name_list)):\n",
    "            short_name += new_name_list[i][0].upper()\n",
    "        return short_name   "
   ]
  },
  {
   "cell_type": "code",
   "execution_count": 2,
   "metadata": {},
   "outputs": [],
   "source": [
    "import glob\n",
    "import shutil\n",
    "from pathlib import Path\n",
    "roads= glob.glob('Data'+os.sep+'SS related'+os.sep+'*')"
   ]
  },
  {
   "cell_type": "code",
   "execution_count": 3,
   "metadata": {},
   "outputs": [
    {
     "name": "stdout",
     "output_type": "stream",
     "text": [
      "Data\\SS related\\24 Malakzo To Safruna RD >>>> 1206  Screenshots\n",
      "Data\\SS related\\47 Shooka bachai Rd to Zanki Khail Chock >>>> 2765  Screenshots\n",
      "Data\\SS related\\55 Shehram Tarakai Rd >>>> 3323  Screenshots\n",
      "All SET !\n"
     ]
    }
   ],
   "source": [
    "total=0\n",
    "t2=1\n",
    "for i in roads:\n",
    "    roadname= i.split(os.sep)[-1]\n",
    "    roadertn=short_road_name(i)\n",
    "    imgs_list = glob.glob(os.path.join(i, '**', '*.jpg'), recursive=True) #+ glob.glob(os.path.join(i, '**', '*.png'), recursive=True)\n",
    "    # print(roadname,\" with SS= \",len(imgs_list))\n",
    "    total += len(imgs_list)\n",
    "    t=total/1075\n",
    "    if  t > t2:\n",
    "        t2+=1\n",
    "        print(i,'>>>>',total,' Screenshots')\n",
    "    for imgg in imgs_list:\n",
    "        imagdir= os.path.dirname(imgg)\n",
    "        \n",
    "        segno=imagdir.split(os.sep)[-1].split(\" \")[-1].strip()\n",
    "        \n",
    "        oldname= imgg.split(os.sep)[-1].split('.')[0]\n",
    "        oldname= '2024' + oldname.split('2024')[-1]\n",
    "        newname= roadertn+'_S'+segno+'_'+oldname+'.jpg'\n",
    "        newpath= imagdir+os.sep+newname \n",
    "        os.rename(imgg,newpath)  \n",
    "print(\"All SET !\")"
   ]
  }
 ],
 "metadata": {
  "kernelspec": {
   "display_name": "yolov8test",
   "language": "python",
   "name": "python3"
  },
  "language_info": {
   "codemirror_mode": {
    "name": "ipython",
    "version": 3
   },
   "file_extension": ".py",
   "mimetype": "text/x-python",
   "name": "python",
   "nbconvert_exporter": "python",
   "pygments_lexer": "ipython3",
   "version": "3.10.13"
  }
 },
 "nbformat": 4,
 "nbformat_minor": 2
}
