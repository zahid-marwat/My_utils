{
 "cells": [
  {
   "cell_type": "code",
   "execution_count": 1,
   "metadata": {},
   "outputs": [],
   "source": [
    "import os,glob\n",
    "import os\n",
    "import shutil\n",
    "\n",
    "\n",
    "class_id_list = {\n",
    "  0: 'ALLIGATOR(H)', 1: 'BLOCK', 2: 'LONGITUDINAL', 3: 'TRANSVERSE', 4: 'RUTTING',\n",
    "  5: 'RAVELING(H)', 6: 'CORRUGATION', 7: 'POTHOLE', 8: 'DEPRESSION', 9: 'EDGE CRACKING',\n",
    "  10: 'RAIL ROAD CROSSING', 11: 'BLEEDING', 12: 'JOINT REFLECTION', 13: 'PATCHING',\n",
    "  14: 'POLISHED AGGREGATE', 15: 'SHOVING', 16: 'SLIPPAGE', 17: 'BUMPS & SAGS', 18: 'SWELL',\n",
    "  19: 'WEATHERING', 20: 'CARRIAGEWAY', 21: 'ALLIGATOR(L)', 22: 'ALLIGATOR(M)', 23: 'RAVELING(M)'\n",
    "}\n",
    "\n",
    "# cls_to_rm = [0, 2, 3, 4, 5, 6, 7, 8, 9, 10, 11, 12, 13, 14, 15, 16, 17, 18, 19, 20, 21, 22, 23]\n",
    "cls_to_rm = [10,11,17,4]\n",
    "\n",
    "data_directory = 'Data/training/Raw Data/'"
   ]
  },
  {
   "cell_type": "code",
   "execution_count": 2,
   "metadata": {},
   "outputs": [
    {
     "data": {
      "text/plain": [
       "4"
      ]
     },
     "execution_count": 2,
     "metadata": {},
     "output_type": "execute_result"
    }
   ],
   "source": [
    "len(cls_to_rm)"
   ]
  },
  {
   "cell_type": "code",
   "execution_count": 3,
   "metadata": {},
   "outputs": [],
   "source": [
    "def remove_classes(data_dir):\n",
    "    \n",
    "    error_dir='Data'+os.sep+'Ann Error check'+os.sep\n",
    "    \n",
    "    txt_list = glob.glob(os.path.join(data_dir, '**', '*.txt'), recursive=True)\n",
    "    txt_list = [x for x in txt_list if 'classes.txt'  not in x]\n",
    "    # print(txt_list)\n",
    "    for ttxt in txt_list:\n",
    "        deleteee=False\n",
    "        # print(labl_dir)\n",
    "        labl_dir=os.path.dirname(ttxt)\n",
    "        img_dir = os.path.dirname(labl_dir) + os.sep +'images'\n",
    "    \n",
    "        imgfile=ttxt.split(os.sep)[-1].split('.')[0]\n",
    "        \n",
    "        with open(ttxt,'r') as f:\n",
    "            lines = f.readlines()                \n",
    "            for line in lines:\n",
    "                class_id = int(line.split(' ')[0])\n",
    "                if class_id in cls_to_rm:\n",
    "                    print(ttxt,'    ',class_id)\n",
    "                    picfile=ttxt.split('.txt')[0]+'.jpg'\n",
    "                    \n",
    "                    txtname=ttxt.split(os.sep)[-1]\n",
    "                    picname=picfile.split(os.sep)[-1]\n",
    "                    \n",
    "                    # shutil.copy(ttxt,error_dir+txtname)\n",
    "                    shutil.copy(picfile,error_dir+picname)\n",
    "                    \n",
    "                    # lines.remove(line)\n",
    "                    \n",
    "            if len(lines) == 0:\n",
    "                        deleteee = True    \n",
    "                        \n",
    "        if deleteee == True:\n",
    "            os.remove(ttxt)\n",
    "            os.remove(img_dir+os.sep+imgfile+'.jpg')\n",
    "        \n",
    "        else:    \n",
    "            with open(ttxt,'w') as file:\n",
    "                file.writelines(lines)\n",
    "    print(\"Classes checked!\")      \n"
   ]
  },
  {
   "cell_type": "code",
   "execution_count": 4,
   "metadata": {},
   "outputs": [
    {
     "name": "stdout",
     "output_type": "stream",
     "text": [
      "Data/training/Raw Data\\119   Tahkal to bachayano chowk\\SEGMENT 1\\1TTBC_S1_2024-08-21-14h59m12s058.txt      4\n",
      "Data/training/Raw Data\\152   Lala Village to Peshawar\\152(A)   Lala Village to Peshawar\\Segment 01\\1LVTP_S01_2024-08-21-12h08m54s336.txt      10\n",
      "Data/training/Raw Data\\30 Shah Alam Kalay Road\\Segment 01\\3SAKR_S01_2024-08-21-12h06m08s348.txt      17\n",
      "Data/training/Raw Data\\30 Shah Alam Kalay Road\\Segment 18\\3SAKR_S18_2024-08-21-12h48m14s194.txt      11\n",
      "Data/training/Raw Data\\34 Takhat Abad mera road\\Segment 03\\3TAMR_S03_2024-08-20-03h03m59s118.txt      4\n",
      "Data/training/Raw Data\\34 Takhat Abad mera road\\Segment 03\\3TAMR_S03_2024-08-20-03h03m59s118.txt      4\n",
      "Data/training/Raw Data\\34 Takhat Abad mera road\\Segment 08\\3TAMR_S08_2024-08-20-04h43m19s576.txt      4\n",
      "Data/training/Raw Data\\34 Takhat Abad mera road\\Segment 08\\3TAMR_S08_2024-08-20-04h44m15s702.txt      4\n",
      "Data/training/Raw Data\\39 Daag lara to Palosi Maghdarzai\\SEGMENT 3\\3DLTPM_S3_2024-08-20-13h26m04s676.txt      17\n",
      "Data/training/Raw Data\\45   JAMRUD SHAGAI WARSAK ROAD\\SEGMENT 1\\4JSWR_S1_2024-08-21-10h40m39s106.txt      10\n",
      "Data/training/Raw Data\\45   JAMRUD SHAGAI WARSAK ROAD\\SEGMENT 1\\4JSWR_S1_2024-08-21-10h40m40s511.txt      10\n",
      "Data/training/Raw Data\\66   Bara chowk to mathra kali\\Segment 04\\6BCTMK_S04_2024-08-19-23h45m35s125.txt      11\n",
      "Classes checked!\n"
     ]
    }
   ],
   "source": [
    "remove_classes(data_directory)"
   ]
  }
 ],
 "metadata": {
  "kernelspec": {
   "display_name": "yolov8test",
   "language": "python",
   "name": "python3"
  },
  "language_info": {
   "codemirror_mode": {
    "name": "ipython",
    "version": 3
   },
   "file_extension": ".py",
   "mimetype": "text/x-python",
   "name": "python",
   "nbconvert_exporter": "python",
   "pygments_lexer": "ipython3",
   "version": "3.10.13"
  }
 },
 "nbformat": 4,
 "nbformat_minor": 2
}
