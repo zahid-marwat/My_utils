{
 "cells": [
  {
   "cell_type": "code",
   "execution_count": 1,
   "metadata": {},
   "outputs": [],
   "source": [
    "import os,glob\n",
    "import os\n",
    "import shutil\n",
    "\n",
    "\n",
    "class_id_list = {\n",
    "  0: 'ALLIGATOR(H)', 1: 'BLOCK', 2: 'LONGITUDINAL', 3: 'TRANSVERSE', 4: 'RUTTING',\n",
    "  5: 'RAVELING(H)', 6: 'CORRUGATION', 7: 'POTHOLE', 8: 'DEPRESSION', 9: 'EDGE CRACKING',\n",
    "  10: 'RAIL ROAD CROSSING', 11: 'BLEEDING', 12: 'JOINT REFLECTION', 13: 'PATCHING',\n",
    "  14: 'POLISHED AGGREGATE', 15: 'SHOVING', 16: 'SLIPPAGE', 17: 'BUMPS & SAGS', 18: 'SWELL',\n",
    "  19: 'WEATHERING', 20: 'CARRIAGEWAY', 21: 'ALLIGATOR(L)', 22: 'ALLIGATOR(M)', 23: 'RAVELING(M)'\n",
    "}\n",
    "\n",
    "# cls_to_rm = [0, 2, 3, 4, 5, 6, 7, 8, 9, 10, 11, 12, 13, 14, 15, 16, 17, 18, 19, 20, 21, 22, 23]\n",
    "cls_to_rm = [10]\n",
    "\n",
    "data_directory = 'Data/training/Raw Data/'"
   ]
  },
  {
   "cell_type": "code",
   "execution_count": 2,
   "metadata": {},
   "outputs": [
    {
     "data": {
      "text/plain": [
       "1"
      ]
     },
     "execution_count": 2,
     "metadata": {},
     "output_type": "execute_result"
    }
   ],
   "source": [
    "len(cls_to_rm)"
   ]
  },
  {
   "cell_type": "code",
   "execution_count": 3,
   "metadata": {},
   "outputs": [],
   "source": [
    "def remove_classes(data_dir):\n",
    "    \n",
    "    error_dir='Data'+os.sep+'Ann Error check'+os.sep\n",
    "    \n",
    "    txt_list = glob.glob(os.path.join(data_dir, '**', '*.txt'), recursive=True)\n",
    "    txt_list = [x for x in txt_list if 'classes.txt'  not in x]\n",
    "    # print(txt_list)\n",
    "    for ttxt in txt_list:\n",
    "        deleteee=False\n",
    "        # print(labl_dir)\n",
    "        labl_dir=os.path.dirname(ttxt)\n",
    "        img_dir = os.path.dirname(labl_dir) + os.sep +'images'\n",
    "    \n",
    "        imgfile=ttxt.split(os.sep)[-1].split('.')[0]\n",
    "        \n",
    "        with open(ttxt,'r') as f:\n",
    "            lines = f.readlines()                \n",
    "            for line in lines:\n",
    "                class_id = int(line.split(' ')[0])\n",
    "                if class_id in cls_to_rm:\n",
    "                    print(ttxt,'    ',class_id)\n",
    "                    picfile=ttxt.split('.txt')[0]+'.jpg'\n",
    "                    \n",
    "                    txtname=ttxt.split(os.sep)[-1]\n",
    "                    picname=picfile.split(os.sep)[-1]\n",
    "                    \n",
    "                    # shutil.copy(ttxt,error_dir+txtname)\n",
    "                    # shutil.copy(picfile,error_dir+picname)\n",
    "                    \n",
    "                    lines.remove(line)\n",
    "                    \n",
    "            if len(lines) == 0:\n",
    "                        deleteee = True    \n",
    "                        \n",
    "        if deleteee == True:\n",
    "            os.remove(ttxt)\n",
    "            os.remove(img_dir+os.sep+imgfile+'.jpg')\n",
    "        \n",
    "        else:    \n",
    "            with open(ttxt,'w') as file:\n",
    "                file.writelines(lines)\n",
    "    print(\"Classes checked!\")      \n"
   ]
  },
  {
   "cell_type": "code",
   "execution_count": 4,
   "metadata": {},
   "outputs": [
    {
     "name": "stdout",
     "output_type": "stream",
     "text": [
      "Data/training/Raw Data\\31   Yousaf Khel To Nawab Chowk Sherkera\\Segment 07\\3YKTNCS_S07_2024-08-07-23h17m49s279.txt      10\n",
      "Data/training/Raw Data\\36   Ashukhel to Bora Road\\Segment 24\\3ATBR_S24_2024-08-08-01h04m30s361.txt      10\n",
      "Data/training/Raw Data\\41   Jalaldin To Bashi Khel RD\\Segment 09\\4JTBKR_S09_2024-08-08-22h23m36s471.txt      10\n",
      "Classes checked!\n"
     ]
    }
   ],
   "source": [
    "remove_classes(data_directory)"
   ]
  }
 ],
 "metadata": {
  "kernelspec": {
   "display_name": "yolov8test",
   "language": "python",
   "name": "python3"
  },
  "language_info": {
   "codemirror_mode": {
    "name": "ipython",
    "version": 3
   },
   "file_extension": ".py",
   "mimetype": "text/x-python",
   "name": "python",
   "nbconvert_exporter": "python",
   "pygments_lexer": "ipython3",
   "version": "3.10.13"
  }
 },
 "nbformat": 4,
 "nbformat_minor": 2
}
