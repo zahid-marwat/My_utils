{
 "cells": [
  {
   "cell_type": "code",
   "execution_count": null,
   "metadata": {},
   "outputs": [],
   "source": [
    "import os\n",
    "import glob\n",
    "import shutil\n",
    "from pathlib import Path\n",
    "import csv\n",
    "import pandas as pd\n"
   ]
  },
  {
   "cell_type": "code",
   "execution_count": null,
   "metadata": {},
   "outputs": [],
   "source": [
    "def get_numerical_value(my_text):\n",
    "    \"\"\"Get numerical value from text string\"\"\"\n",
    "    import re\n",
    "    feet_units=['F','FT','FEET']\n",
    "    meter_units=['M','METER','METERS']\n",
    "    Km_units=['KM','KILOMETER','KILOMETERS']\n",
    "    unit_used = re.findall('[a-zA-Z]+', my_text)[0]\n",
    "    numeric_value = float(my_text.split(unit_used)[0])\n",
    "    \n",
    "    \n",
    "    \n",
    "    if unit_used.upper() in feet_units:\n",
    "        return (int(numeric_value * 0.3048))   #length of road in a frame in meters\n",
    "    elif unit_used.upper() in meter_units:\n",
    "        return(int(numeric_value))\n",
    "    elif unit_used.upper() in Km_units:\n",
    "        return(int(numeric_value/1000))\n",
    "    else:\n",
    "        print(\"Error: in function: (get_numerical_value) as the unit used is invalid\")"
   ]
  },
  {
   "cell_type": "code",
   "execution_count": null,
   "metadata": {},
   "outputs": [],
   "source": []
  },
  {
   "cell_type": "code",
   "execution_count": null,
   "metadata": {},
   "outputs": [],
   "source": [
    "import pandas as pd\n",
    "import openpyxl\n",
    "import glob\n",
    "import os\n",
    "\n",
    "roads_list = glob.glob('Data'+os.sep+'roads'+os.sep+'*')\n",
    "roads_details=[]\n",
    "for road in roads_list:\n",
    "    road_name = road.split(os.sep)[-1]\n",
    "    dir_rname = road_name\n",
    "    print(road_name)\n",
    "    segments_srvyList=glob.glob(os.path.join(road, '**', 'Survey Form'+'*.xlsx'), recursive=True)\n",
    "    total_segs = len(segments_srvyList)\n",
    "    # print(total_segs)\n",
    "    avg_pci = 0\n",
    "    pci_sum = 0\n",
    "    rd_length = 0\n",
    "        \n",
    "    # print(segments_srvyList)\n",
    "  \n",
    "    for seg_srvy in segments_srvyList:\n",
    "        seg_name = seg_srvy.split(os.sep)[5]\n",
    "        dir_sname= seg_name\n",
    "\n",
    "        seg_dir  = os.path.dirname(seg_srvy)       \n",
    "        rd_survey =pd.read_excel(seg_srvy)\n",
    "        seg_len = get_numerical_value(rd_survey.iloc[7,1])\n",
    "  \n",
    "        rd_length += seg_len\n",
    "\n",
    "    roads_details.append([road_name, rd_length, total_segs])\n",
    "        \n",
    "df_roads=pd.DataFrame(roads_details,columns=['Road', \"Length(m)\", \"Segments\"])\n",
    "# # Save to CSV file\n",
    "df_roads.to_csv('Data'+os.sep+'All Roads Summary.csv', index=False)       "
   ]
  },
  {
   "cell_type": "code",
   "execution_count": null,
   "metadata": {},
   "outputs": [],
   "source": []
  }
 ],
 "metadata": {
  "kernelspec": {
   "display_name": "yolov8test",
   "language": "python",
   "name": "python3"
  },
  "language_info": {
   "codemirror_mode": {
    "name": "ipython",
    "version": 3
   },
   "file_extension": ".py",
   "mimetype": "text/x-python",
   "name": "python",
   "nbconvert_exporter": "python",
   "pygments_lexer": "ipython3",
   "version": "3.10.13"
  }
 },
 "nbformat": 4,
 "nbformat_minor": 2
}
