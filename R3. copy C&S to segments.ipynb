{
 "cells": [
  {
   "cell_type": "code",
   "execution_count": null,
   "metadata": {},
   "outputs": [],
   "source": [
    "import shutil\n",
    "import os,glob"
   ]
  },
  {
   "cell_type": "code",
   "execution_count": null,
   "metadata": {},
   "outputs": [],
   "source": [
    "def find_district_directory(dummy_data_dir):\n",
    "    \n",
    "    return [i for i in next(os.walk(dummy_data_dir))[1]][0]\n",
    "\n",
    "\n",
    "def find_road_directories(district):\n",
    "\n",
    "    return [i for i in (glob.glob(district + os.sep + 'roads' + os.sep + '*')) if os.path.isdir(i)]"
   ]
  },
  {
   "cell_type": "code",
   "execution_count": null,
   "metadata": {},
   "outputs": [],
   "source": [
    "def copy_cost_strategy_files(new_cs_files,roads):\n",
    "    csv_files = glob.glob(new_cs_files+ os.sep + \"*.csv\" , recursive=True)\n",
    "    print(len(csv_files))\n",
    "    global copiedlist,direct_road_list\n",
    "    direct_road_list=[]\n",
    "    copiedlist=[]\n",
    "    counterCopy=0\n",
    "    \n",
    "    for road in roads:\n",
    "        segmentdir = road + os.sep + 'segments'\n",
    "        target_directory = os.path.dirname(segmentdir)\n",
    "        target_directory_name = os.path.basename(target_directory)\n",
    "        # print(target_directory_name)\n",
    "        direct_road_list.append(target_directory_name)\n",
    "\n",
    "        for file in csv_files:\n",
    "            file_name = os.path.basename(file)\n",
    "            file_name_without_extension = file_name.split(\"_BOQ.\")[0]\n",
    "\n",
    "            if file_name_without_extension == target_directory_name:\n",
    "                if os.path.isfile(file):\n",
    "                    # print(file_name_without_extension ,'>>' ,os.path.basename(target_directory))\n",
    "                    if  not os.path.exists(target_directory):\n",
    "                        print('No Path: ',target_directory)\n",
    "                    elif not (file_name_without_extension == os.path.basename(target_directory)) :\n",
    "                        print(\"Names Error: \",file_name_without_extension,' -=- ',os.path.basename(target_directory))\n",
    "                    else:\n",
    "                        shutil.copy(file, target_directory)\n",
    "                        counterCopy +=1\n",
    "                        copiedlist.append(file_name_without_extension)\n",
    "                        # print(file_name_without_extension)\n",
    "                        print(file_name_without_extension ,'>>' ,os.path.basename(target_directory))\n",
    "\n",
    "    \n",
    "    for item in direct_road_list:\n",
    "        if item not in copiedlist:\n",
    "            print(item,' not found ! !')\n",
    "                        \n",
    "    print('copied files:',counterCopy)\n"
   ]
  },
  {
   "cell_type": "code",
   "execution_count": null,
   "metadata": {},
   "outputs": [],
   "source": [
    "# def copy_cost_strategy_files2(new_cs_files,roads):\n",
    "#     global total_roads_for_boqs, found\n",
    "#     csv_files = glob.glob(new_cs_files+ os.sep + \"*.csv\" , recursive=True)\n",
    "#     found= []\n",
    "#     total_roads_for_boqs = []\n",
    "#     for road in roads:\n",
    "#         segment_dir  =road + os.sep + 'segments'\n",
    "\n",
    "#         target_directory = os.path.dirname(segment_dir)\n",
    "#         target_directory_name = os.path.basename(target_directory)\n",
    "#         total_roads_for_boqs.append(target_directory_name)\n",
    "#         # print(target_directory_name)\n",
    "\n",
    "#         for file in csv_files:\n",
    "#             file_name = os.path.basename(file)\n",
    "#             file_name_without_extension = file_name.split(\"_BOQs\")[0]\n",
    "\n",
    "#             if file_name_without_extension == target_directory_name:\n",
    "#                     found.append(file_name_without_extension)\n",
    "#                     shutil.copy(file, target_directory)"
   ]
  },
  {
   "cell_type": "code",
   "execution_count": null,
   "metadata": {},
   "outputs": [],
   "source": [
    "cs_files_dir = 'Data' + os.sep + 'C&S related' + os.sep + 'csv files'\n",
    "dummy_data_dir = 'Data'+ os.sep +'C&S related'+ os.sep +'dummy report data'\n",
    "\n",
    "distt = find_district_directory(dummy_data_dir)\n",
    "\n",
    "distt_path = dummy_data_dir + os.sep + distt\n",
    "\n",
    "roads = find_road_directories(distt_path)\n",
    "\n",
    "copy_cost_strategy_files(cs_files_dir,roads)\n",
    "print('----- Done -----')"
   ]
  },
  {
   "cell_type": "code",
   "execution_count": null,
   "metadata": {},
   "outputs": [],
   "source": []
  }
 ],
 "metadata": {
  "kernelspec": {
   "display_name": "dle",
   "language": "python",
   "name": "python3"
  },
  "language_info": {
   "codemirror_mode": {
    "name": "ipython",
    "version": 3
   },
   "file_extension": ".py",
   "mimetype": "text/x-python",
   "name": "python",
   "nbconvert_exporter": "python",
   "pygments_lexer": "ipython3",
   "version": "3.10.13"
  }
 },
 "nbformat": 4,
 "nbformat_minor": 2
}
