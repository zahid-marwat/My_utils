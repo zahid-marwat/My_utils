{
 "cells": [
  {
   "cell_type": "code",
   "execution_count": 1,
   "metadata": {},
   "outputs": [],
   "source": [
    "import glob\n",
    "import os\n",
    "import pandas as pd\n",
    "\n",
    "import shutil\n",
    "from pathlib import Path\n",
    "roads= glob.glob(r'C:\\Users\\fbpza\\Desktop\\Mardan for det\\Mardan Part-A Asphalt\\Asphalt Road'+os.sep+'*')\n"
   ]
  },
  {
   "cell_type": "code",
   "execution_count": 4,
   "metadata": {},
   "outputs": [],
   "source": [
    "alldata=[]\n",
    "segstotal=0\n",
    "for i in roads:\n",
    "    roadname= i.split(os.sep)[-1]\n",
    "    segs = glob.glob(i+os.sep+'segments'+os.sep+'*')\n",
    "    # segs = glob.glob(i+os.sep+'segments'+os.sep+'*')\n",
    "    alldata.append(roadname)\n",
    "    for j in segs:\n",
    "        segstotal+=1\n",
    "    #     segname = j.split(os.sep)[-1]\n",
    "    #     alldata.append(segname)\n"
   ]
  },
  {
   "cell_type": "code",
   "execution_count": 3,
   "metadata": {},
   "outputs": [],
   "source": [
    "# df_segs=pd.DataFrame(alldata)\n",
    "# df_segs.to_csv('RoadsList.csv', index=False)"
   ]
  },
  {
   "cell_type": "code",
   "execution_count": 5,
   "metadata": {},
   "outputs": [
    {
     "data": {
      "text/plain": [
       "162.66666666666666"
      ]
     },
     "execution_count": 5,
     "metadata": {},
     "output_type": "execute_result"
    }
   ],
   "source": [
    "segstotal/3\n"
   ]
  }
 ],
 "metadata": {
  "kernelspec": {
   "display_name": "yolov8test",
   "language": "python",
   "name": "python3"
  },
  "language_info": {
   "codemirror_mode": {
    "name": "ipython",
    "version": 3
   },
   "file_extension": ".py",
   "mimetype": "text/x-python",
   "name": "python",
   "nbconvert_exporter": "python",
   "pygments_lexer": "ipython3",
   "version": "3.10.13"
  }
 },
 "nbformat": 4,
 "nbformat_minor": 2
}
