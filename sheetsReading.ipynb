{
 "cells": [
  {
   "cell_type": "code",
   "execution_count": 1,
   "metadata": {},
   "outputs": [],
   "source": [
    "import pandas as pd\n",
    "from tabulate import tabulate"
   ]
  },
  {
   "cell_type": "code",
   "execution_count": 7,
   "metadata": {},
   "outputs": [
    {
     "name": "stdout",
     "output_type": "stream",
     "text": [
      "0         New Construction for Kacha Road\n",
      "1     Structural Overlay (Reconditioning)\n",
      "2                                     NaN\n",
      "3                                     NaN\n",
      "4                                     NaN\n",
      "5                                     NaN\n",
      "6           Resurfacing with Sand Asphalt\n",
      "7                                     NaN\n",
      "8         New Construction for Kacha Road\n",
      "9                                     NaN\n",
      "10                                    NaN\n",
      "11                                    NaN\n",
      "12                                    NaN\n",
      "13                                    NaN\n",
      "14                                    NaN\n",
      "15                                    NaN\n",
      "16                                    NaN\n",
      "17                                    NaN\n",
      "18                                    NaN\n",
      "19                                    NaN\n",
      "20                                    NaN\n",
      "21                                    NaN\n",
      "22                                    NaN\n",
      "23                                    NaN\n",
      "24                                    NaN\n",
      "25                                    NaN\n",
      "26                                    NaN\n",
      "27                                    NaN\n",
      "28                                    NaN\n",
      "29                                    NaN\n",
      "30                                    NaN\n",
      "31                                    NaN\n",
      "32                                    NaN\n",
      "Name: Maintenance Strategy, dtype: object\n"
     ]
    },
    {
     "ename": "TypeError",
     "evalue": "'float' object is not iterable",
     "output_type": "error",
     "traceback": [
      "\u001b[1;31m---------------------------------------------------------------------------\u001b[0m",
      "\u001b[1;31mTypeError\u001b[0m                                 Traceback (most recent call last)",
      "Cell \u001b[1;32mIn[7], line 20\u001b[0m\n\u001b[0;32m     18\u001b[0m roads_in_file\u001b[38;5;241m.\u001b[39mappend(rd_name_inFile)\n\u001b[0;32m     19\u001b[0m \u001b[38;5;66;03m# pr=cost_df[roads_in_file]\u001b[39;00m\n\u001b[1;32m---> 20\u001b[0m \u001b[38;5;28mprint\u001b[39m(\u001b[43mtabulate\u001b[49m\u001b[43m(\u001b[49m\u001b[43mfirst_row\u001b[49m\u001b[43m,\u001b[49m\u001b[43m \u001b[49m\u001b[43mtablefmt\u001b[49m\u001b[38;5;241;43m=\u001b[39;49m\u001b[38;5;124;43m'\u001b[39;49m\u001b[38;5;124;43mpsql\u001b[39;49m\u001b[38;5;124;43m'\u001b[39;49m\u001b[43m,\u001b[49m\u001b[43m \u001b[49m\u001b[43mshowindex\u001b[49m\u001b[38;5;241;43m=\u001b[39;49m\u001b[38;5;28;43;01mFalse\u001b[39;49;00m\u001b[43m)\u001b[49m)\n\u001b[0;32m     25\u001b[0m \u001b[38;5;66;03m# cost_df.to_csv(rd_name_inFile+'.csv', index=False)\u001b[39;00m\n\u001b[0;32m     26\u001b[0m \u001b[38;5;66;03m# print(column_header)\u001b[39;00m\n\u001b[0;32m     27\u001b[0m asd\n",
      "File \u001b[1;32mc:\\Miniconda3\\envs\\yolov8test\\lib\\site-packages\\tabulate\\__init__.py:2048\u001b[0m, in \u001b[0;36mtabulate\u001b[1;34m(tabular_data, headers, tablefmt, floatfmt, intfmt, numalign, stralign, missingval, showindex, disable_numparse, colalign, maxcolwidths, rowalign, maxheadercolwidths)\u001b[0m\n\u001b[0;32m   2045\u001b[0m \u001b[38;5;28;01mif\u001b[39;00m tabular_data \u001b[38;5;129;01mis\u001b[39;00m \u001b[38;5;28;01mNone\u001b[39;00m:\n\u001b[0;32m   2046\u001b[0m     tabular_data \u001b[38;5;241m=\u001b[39m []\n\u001b[1;32m-> 2048\u001b[0m list_of_lists, headers \u001b[38;5;241m=\u001b[39m \u001b[43m_normalize_tabular_data\u001b[49m\u001b[43m(\u001b[49m\n\u001b[0;32m   2049\u001b[0m \u001b[43m    \u001b[49m\u001b[43mtabular_data\u001b[49m\u001b[43m,\u001b[49m\u001b[43m \u001b[49m\u001b[43mheaders\u001b[49m\u001b[43m,\u001b[49m\u001b[43m \u001b[49m\u001b[43mshowindex\u001b[49m\u001b[38;5;241;43m=\u001b[39;49m\u001b[43mshowindex\u001b[49m\n\u001b[0;32m   2050\u001b[0m \u001b[43m\u001b[49m\u001b[43m)\u001b[49m\n\u001b[0;32m   2051\u001b[0m list_of_lists, separating_lines \u001b[38;5;241m=\u001b[39m _remove_separating_lines(list_of_lists)\n\u001b[0;32m   2053\u001b[0m \u001b[38;5;28;01mif\u001b[39;00m maxcolwidths \u001b[38;5;129;01mis\u001b[39;00m \u001b[38;5;129;01mnot\u001b[39;00m \u001b[38;5;28;01mNone\u001b[39;00m:\n",
      "File \u001b[1;32mc:\\Miniconda3\\envs\\yolov8test\\lib\\site-packages\\tabulate\\__init__.py:1371\u001b[0m, in \u001b[0;36m_normalize_tabular_data\u001b[1;34m(tabular_data, headers, showindex)\u001b[0m\n\u001b[0;32m   1369\u001b[0m     \u001b[38;5;66;03m# for DataFrames add an index per default\u001b[39;00m\n\u001b[0;32m   1370\u001b[0m     index \u001b[38;5;241m=\u001b[39m \u001b[38;5;28mlist\u001b[39m(tabular_data\u001b[38;5;241m.\u001b[39mindex)\n\u001b[1;32m-> 1371\u001b[0m     rows \u001b[38;5;241m=\u001b[39m [\u001b[38;5;28mlist\u001b[39m(row) \u001b[38;5;28;01mfor\u001b[39;00m row \u001b[38;5;129;01min\u001b[39;00m vals]\n\u001b[0;32m   1372\u001b[0m \u001b[38;5;28;01melse\u001b[39;00m:\n\u001b[0;32m   1373\u001b[0m     \u001b[38;5;28;01mraise\u001b[39;00m \u001b[38;5;167;01mValueError\u001b[39;00m(\u001b[38;5;124m\"\u001b[39m\u001b[38;5;124mtabular data doesn\u001b[39m\u001b[38;5;124m'\u001b[39m\u001b[38;5;124mt appear to be a dict or a DataFrame\u001b[39m\u001b[38;5;124m\"\u001b[39m)\n",
      "File \u001b[1;32mc:\\Miniconda3\\envs\\yolov8test\\lib\\site-packages\\tabulate\\__init__.py:1371\u001b[0m, in \u001b[0;36m<listcomp>\u001b[1;34m(.0)\u001b[0m\n\u001b[0;32m   1369\u001b[0m     \u001b[38;5;66;03m# for DataFrames add an index per default\u001b[39;00m\n\u001b[0;32m   1370\u001b[0m     index \u001b[38;5;241m=\u001b[39m \u001b[38;5;28mlist\u001b[39m(tabular_data\u001b[38;5;241m.\u001b[39mindex)\n\u001b[1;32m-> 1371\u001b[0m     rows \u001b[38;5;241m=\u001b[39m [\u001b[38;5;28;43mlist\u001b[39;49m\u001b[43m(\u001b[49m\u001b[43mrow\u001b[49m\u001b[43m)\u001b[49m \u001b[38;5;28;01mfor\u001b[39;00m row \u001b[38;5;129;01min\u001b[39;00m vals]\n\u001b[0;32m   1372\u001b[0m \u001b[38;5;28;01melse\u001b[39;00m:\n\u001b[0;32m   1373\u001b[0m     \u001b[38;5;28;01mraise\u001b[39;00m \u001b[38;5;167;01mValueError\u001b[39;00m(\u001b[38;5;124m\"\u001b[39m\u001b[38;5;124mtabular data doesn\u001b[39m\u001b[38;5;124m'\u001b[39m\u001b[38;5;124mt appear to be a dict or a DataFrame\u001b[39m\u001b[38;5;124m\"\u001b[39m)\n",
      "\u001b[1;31mTypeError\u001b[0m: 'float' object is not iterable"
     ]
    }
   ],
   "source": [
    "# Load the Excel file\n",
    "Cost_file_path = 'Cost and strategies.xlsx'\n",
    "\n",
    "# Load all sheets into a dictionary\n",
    "cost_xls = pd.ExcelFile(Cost_file_path)\n",
    "\n",
    "# Display sheet names\n",
    "sheets_list=cost_xls.sheet_names\n",
    "roads_in_file=[]\n",
    "\n",
    "for sheet in sheets_list:\n",
    "    cost_df=pd.read_excel(Cost_file_path, sheet_name=sheet, header=2)\n",
    "    first_row = cost_df['Maintenance Strategy']\n",
    "    print(first_row)\n",
    "\n",
    "    rd_name_inFile=cost_df.columns[0]\n",
    "    column_header=cost_df\n",
    "    roads_in_file.append(rd_name_inFile)\n",
    "    # pr=cost_df[roads_in_file]\n",
    "    print(tabulate(first_row, tablefmt='psql', showindex=False))\n",
    "    \n",
    "    \n",
    "    \n",
    "    \n",
    "    # cost_df.to_csv(rd_name_inFile+'.csv', index=False)\n",
    "    # print(column_header)\n",
    "    asd"
   ]
  },
  {
   "cell_type": "code",
   "execution_count": null,
   "metadata": {},
   "outputs": [],
   "source": []
  }
 ],
 "metadata": {
  "kernelspec": {
   "display_name": "yolov8test",
   "language": "python",
   "name": "python3"
  },
  "language_info": {
   "codemirror_mode": {
    "name": "ipython",
    "version": 3
   },
   "file_extension": ".py",
   "mimetype": "text/x-python",
   "name": "python",
   "nbconvert_exporter": "python",
   "pygments_lexer": "ipython3",
   "version": "3.10.13"
  }
 },
 "nbformat": 4,
 "nbformat_minor": 2
}
