{
 "cells": [
  {
   "cell_type": "code",
   "execution_count": 3,
   "metadata": {},
   "outputs": [
    {
     "name": "stdout",
     "output_type": "stream",
     "text": [
      "Done!\n"
     ]
    }
   ],
   "source": [
    "import os\n",
    "import shutil\n",
    "from pathlib import Path\n",
    "\n",
    "def copy_with_dummy_videos(src_folder, dest_folder):\n",
    "    src_folder = Path(src_folder)\n",
    "    dest_folder = Path(dest_folder)\n",
    "    \n",
    "    for root, dirs, files in os.walk(src_folder):\n",
    "        # Calculate the relative path from source folder\n",
    "        rel_path = Path(root).relative_to(src_folder)\n",
    "        dest_path = dest_folder / rel_path\n",
    "        \n",
    "        # Create the destination folder if it doesn't exist\n",
    "        dest_path.mkdir(parents=True, exist_ok=True)\n",
    "        \n",
    "        for file in files:\n",
    "            dest_file = dest_path / file\n",
    "            dest_file.touch()  # This creates an empty file\n",
    "            \n",
    "\n",
    "src_folder = r'E:\\Airloop Project 2\\Haripur phase II\\REPORTS\\Haripur'\n",
    "\n",
    "dest_folder = \"Data/EVERY3\"\n",
    "copy_with_dummy_videos(src_folder, dest_folder)\n",
    "print('Done!')\n"
   ]
  },
  {
   "cell_type": "code",
   "execution_count": null,
   "metadata": {},
   "outputs": [],
   "source": []
  }
 ],
 "metadata": {
  "kernelspec": {
   "display_name": "yolov8test",
   "language": "python",
   "name": "python3"
  },
  "language_info": {
   "codemirror_mode": {
    "name": "ipython",
    "version": 3
   },
   "file_extension": ".py",
   "mimetype": "text/x-python",
   "name": "python",
   "nbconvert_exporter": "python",
   "pygments_lexer": "ipython3",
   "version": "3.10.13"
  }
 },
 "nbformat": 4,
 "nbformat_minor": 2
}
