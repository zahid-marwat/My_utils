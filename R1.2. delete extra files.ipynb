{
 "cells": [
  {
   "cell_type": "code",
   "execution_count": 7,
   "metadata": {},
   "outputs": [
    {
     "name": "stdout",
     "output_type": "stream",
     "text": [
      "No roads missing in part 1.\n",
      "No roads missing in part 2.\n"
     ]
    }
   ],
   "source": [
    "# Part A: Checking source and target directories' names before copying files from source to target\n",
    "import os\n",
    "from difflib import get_close_matches\n",
    "\n",
    "# Define the paths to the two parts\n",
    "part1_path = 'path/to/part1'  # The path where the videos are located\n",
    "part2_path = 'path/to/part2'  # The path where the reports and other files are located\n",
    "\n",
    "def get_road_names(base_path):\n",
    "    \"\"\"Retrieve the list of road names (directories) in the given base path.\"\"\"\n",
    "    return set(os.path.relpath(os.path.join(dp, dn), base_path) \n",
    "               for dp, dn, _ in os.walk(base_path) \n",
    "               for dn in dp.split(os.sep))\n",
    "\n",
    "def find_closest_match(road, road_list):\n",
    "    \"\"\"Find the closest match for a road name in the given list.\"\"\"\n",
    "    matches = get_close_matches(road, road_list, n=1, cutoff=0.6)\n",
    "    return matches[0] if matches else None\n",
    "\n",
    "def find_missing_roads_with_closest_match(part1_path, part2_path):\n",
    "    # Get the road names from both parts\n",
    "    part1_roads = get_road_names(part1_path)\n",
    "    part2_roads = get_road_names(part2_path)\n",
    "\n",
    "    # Find roads missing in part 1\n",
    "    missing_in_part1 = part2_roads - part1_roads\n",
    "    # Find roads missing in part 2\n",
    "    missing_in_part2 = part1_roads - part2_roads\n",
    "\n",
    "    # Find closest matches for missing roads\n",
    "    missing_in_part1_with_matches = {\n",
    "        road: find_closest_match(road, part1_roads) for road in missing_in_part1\n",
    "    }\n",
    "    missing_in_part2_with_matches = {\n",
    "        road: find_closest_match(road, part2_roads) for road in missing_in_part2\n",
    "    }\n",
    "\n",
    "    return missing_in_part1_with_matches, missing_in_part2_with_matches\n",
    "\n",
    "# Call the function to find missing roads and their closest matches\n",
    "missing_in_part1_with_matches, missing_in_part2_with_matches = find_missing_roads_with_closest_match(part1_path, part2_path)\n",
    "\n",
    "# Output the results\n",
    "if missing_in_part1_with_matches:\n",
    "    print(\"Roads missing in part 1 with closest matches in part 2:\")\n",
    "    for road, match in missing_in_part1_with_matches.items():\n",
    "        print(f\"{road} -> Closest match in part 1: {match}\")\n",
    "else:\n",
    "    print(\"No roads missing in part 1.\")\n",
    "\n",
    "if missing_in_part2_with_matches:\n",
    "    print(\"\\nRoads missing in part 2 with closest matches in part 1:\")\n",
    "    for road, match in missing_in_part2_with_matches.items():\n",
    "        print(f\"{road} -> Closest match in part 2: {match}\")\n",
    "else:\n",
    "    print(\"No roads missing in part 2.\")\n"
   ]
  },
  {
   "cell_type": "code",
   "execution_count": 8,
   "metadata": {},
   "outputs": [
    {
     "name": "stdout",
     "output_type": "stream",
     "text": [
      "['C:\\\\Users\\\\fbpza\\\\Desktop\\\\My_utils\\\\Data\\\\Mardan B dummy\\\\Merged with kacha cleaned\\\\roads\\\\Almas Killi road', 'C:\\\\Users\\\\fbpza\\\\Desktop\\\\My_utils\\\\Data\\\\Mardan B dummy\\\\Merged with kacha cleaned\\\\roads\\\\Bacha Khan chowk to KPremixhehri Road Bank Road upto Hoti Bridge Side A', 'C:\\\\Users\\\\fbpza\\\\Desktop\\\\My_utils\\\\Data\\\\Mardan B dummy\\\\Merged with kacha cleaned\\\\roads\\\\Bacha Khan chowk to KPremixhehri Road Bank Road upto Hoti Bridge Side B', 'C:\\\\Users\\\\fbpza\\\\Desktop\\\\My_utils\\\\Data\\\\Mardan B dummy\\\\Merged with kacha cleaned\\\\roads\\\\Bagh e irum Bilal Masjid Road', 'C:\\\\Users\\\\fbpza\\\\Desktop\\\\My_utils\\\\Data\\\\Mardan B dummy\\\\Merged with kacha cleaned\\\\roads\\\\Baghicha Dheri Collector road', 'C:\\\\Users\\\\fbpza\\\\Desktop\\\\My_utils\\\\Data\\\\Mardan B dummy\\\\Merged with kacha cleaned\\\\roads\\\\Bicket Gunj Road', 'C:\\\\Users\\\\fbpza\\\\Desktop\\\\My_utils\\\\Data\\\\Mardan B dummy\\\\Merged with kacha cleaned\\\\roads\\\\Chamtaar Rug Narai Road', 'C:\\\\Users\\\\fbpza\\\\Desktop\\\\My_utils\\\\Data\\\\Mardan B dummy\\\\Merged with kacha cleaned\\\\roads\\\\Chamttaar Kourgh Road', 'C:\\\\Users\\\\fbpza\\\\Desktop\\\\My_utils\\\\Data\\\\Mardan B dummy\\\\Merged with kacha cleaned\\\\roads\\\\Chuwa Chitral Shahnoor Pull Road', 'C:\\\\Users\\\\fbpza\\\\Desktop\\\\My_utils\\\\Data\\\\Mardan B dummy\\\\Merged with kacha cleaned\\\\roads\\\\Daftaro to Afsan Mall Killi Jan Abad Road', 'C:\\\\Users\\\\fbpza\\\\Desktop\\\\My_utils\\\\Data\\\\Mardan B dummy\\\\Merged with kacha cleaned\\\\roads\\\\Daftaro to Chopaloona Sohbat Abad Road', 'C:\\\\Users\\\\fbpza\\\\Desktop\\\\My_utils\\\\Data\\\\Mardan B dummy\\\\Merged with kacha cleaned\\\\roads\\\\Daftaro to Chowki Road', 'C:\\\\Users\\\\fbpza\\\\Desktop\\\\My_utils\\\\Data\\\\Mardan B dummy\\\\Merged with kacha cleaned\\\\roads\\\\Dako Baba upto Takh Bhai Said Abad Road', 'C:\\\\Users\\\\fbpza\\\\Desktop\\\\My_utils\\\\Data\\\\Mardan B dummy\\\\Merged with kacha cleaned\\\\roads\\\\Eid Gah Road', 'C:\\\\Users\\\\fbpza\\\\Desktop\\\\My_utils\\\\Data\\\\Mardan B dummy\\\\Merged with kacha cleaned\\\\roads\\\\Faram Kuroona Road', 'C:\\\\Users\\\\fbpza\\\\Desktop\\\\My_utils\\\\Data\\\\Mardan B dummy\\\\Merged with kacha cleaned\\\\roads\\\\Fateh Road', 'C:\\\\Users\\\\fbpza\\\\Desktop\\\\My_utils\\\\Data\\\\Mardan B dummy\\\\Merged with kacha cleaned\\\\roads\\\\Fazal Abad Bridge Chiragh Din Madey Baba', 'C:\\\\Users\\\\fbpza\\\\Desktop\\\\My_utils\\\\Data\\\\Mardan B dummy\\\\Merged with kacha cleaned\\\\roads\\\\Fazal Abad Landay Wala Road', 'C:\\\\Users\\\\fbpza\\\\Desktop\\\\My_utils\\\\Data\\\\Mardan B dummy\\\\Merged with kacha cleaned\\\\roads\\\\Gaju Khan Road', 'C:\\\\Users\\\\fbpza\\\\Desktop\\\\My_utils\\\\Data\\\\Mardan B dummy\\\\Merged with kacha cleaned\\\\roads\\\\Garo Shah to Torhder', 'C:\\\\Users\\\\fbpza\\\\Desktop\\\\My_utils\\\\Data\\\\Mardan B dummy\\\\Merged with kacha cleaned\\\\roads\\\\Gulibagh Road', 'C:\\\\Users\\\\fbpza\\\\Desktop\\\\My_utils\\\\Data\\\\Mardan B dummy\\\\Merged with kacha cleaned\\\\roads\\\\Hathian Dargiwal Road', 'C:\\\\Users\\\\fbpza\\\\Desktop\\\\My_utils\\\\Data\\\\Mardan B dummy\\\\Merged with kacha cleaned\\\\roads\\\\Husai Bai Khan Bari Kaho', 'C:\\\\Users\\\\fbpza\\\\Desktop\\\\My_utils\\\\Data\\\\Mardan B dummy\\\\Merged with kacha cleaned\\\\roads\\\\Husai Garyala', 'C:\\\\Users\\\\fbpza\\\\Desktop\\\\My_utils\\\\Data\\\\Mardan B dummy\\\\Merged with kacha cleaned\\\\roads\\\\Jail Koragh Road', 'C:\\\\Users\\\\fbpza\\\\Desktop\\\\My_utils\\\\Data\\\\Mardan B dummy\\\\Merged with kacha cleaned\\\\roads\\\\Jalal Killi Narai Wala Sheikh Yousaf Killi Road', 'C:\\\\Users\\\\fbpza\\\\Desktop\\\\My_utils\\\\Data\\\\Mardan B dummy\\\\Merged with kacha cleaned\\\\roads\\\\Kanda Road', 'C:\\\\Users\\\\fbpza\\\\Desktop\\\\My_utils\\\\Data\\\\Mardan B dummy\\\\Merged with kacha cleaned\\\\roads\\\\Khana Road', 'C:\\\\Users\\\\fbpza\\\\Desktop\\\\My_utils\\\\Data\\\\Mardan B dummy\\\\Merged with kacha cleaned\\\\roads\\\\Khunday Noor Killi Road', 'C:\\\\Users\\\\fbpza\\\\Desktop\\\\My_utils\\\\Data\\\\Mardan B dummy\\\\Merged with kacha cleaned\\\\roads\\\\Koragh Gharib Abad Road', 'C:\\\\Users\\\\fbpza\\\\Desktop\\\\My_utils\\\\Data\\\\Mardan B dummy\\\\Merged with kacha cleaned\\\\roads\\\\Koragh Road', 'C:\\\\Users\\\\fbpza\\\\Desktop\\\\My_utils\\\\Data\\\\Mardan B dummy\\\\Merged with kacha cleaned\\\\roads\\\\Kurkurai Wala upto Charsadda Road', 'C:\\\\Users\\\\fbpza\\\\Desktop\\\\My_utils\\\\Data\\\\Mardan B dummy\\\\Merged with kacha cleaned\\\\roads\\\\Lundkhwar Alo Road', 'C:\\\\Users\\\\fbpza\\\\Desktop\\\\My_utils\\\\Data\\\\Mardan B dummy\\\\Merged with kacha cleaned\\\\roads\\\\Maiangulzara Shahbaig Road Side A', 'C:\\\\Users\\\\fbpza\\\\Desktop\\\\My_utils\\\\Data\\\\Mardan B dummy\\\\Merged with kacha cleaned\\\\roads\\\\Maiangulzara Shahbaig Road Side B', 'C:\\\\Users\\\\fbpza\\\\Desktop\\\\My_utils\\\\Data\\\\Mardan B dummy\\\\Merged with kacha cleaned\\\\roads\\\\Malakand Chowk to Charsadda Chowk', 'C:\\\\Users\\\\fbpza\\\\Desktop\\\\My_utils\\\\Data\\\\Mardan B dummy\\\\Merged with kacha cleaned\\\\roads\\\\Masal MPremixhine KM 5 Jewer', 'C:\\\\Users\\\\fbpza\\\\Desktop\\\\My_utils\\\\Data\\\\Mardan B dummy\\\\Merged with kacha cleaned\\\\roads\\\\Mausam Kuroona to Cannal Road', 'C:\\\\Users\\\\fbpza\\\\Desktop\\\\My_utils\\\\Data\\\\Mardan B dummy\\\\Merged with kacha cleaned\\\\roads\\\\Mazdoor Abad Asaari Qadeema', 'C:\\\\Users\\\\fbpza\\\\Desktop\\\\My_utils\\\\Data\\\\Mardan B dummy\\\\Merged with kacha cleaned\\\\roads\\\\Mianz Kandow Husai Road', 'C:\\\\Users\\\\fbpza\\\\Desktop\\\\My_utils\\\\Data\\\\Mardan B dummy\\\\Merged with kacha cleaned\\\\roads\\\\Mill By Pass Road upto Gujar arhi NCC Road to Charsada Chowk Side A', 'C:\\\\Users\\\\fbpza\\\\Desktop\\\\My_utils\\\\Data\\\\Mardan B dummy\\\\Merged with kacha cleaned\\\\roads\\\\Mill By Pass Road upto Gujar arhi NCC Road to Charsada Chowk Side B', 'C:\\\\Users\\\\fbpza\\\\Desktop\\\\My_utils\\\\Data\\\\Mardan B dummy\\\\Merged with kacha cleaned\\\\roads\\\\Mohabat Abad Maho Dheri Road Side A', 'C:\\\\Users\\\\fbpza\\\\Desktop\\\\My_utils\\\\Data\\\\Mardan B dummy\\\\Merged with kacha cleaned\\\\roads\\\\Mohabat Abad Maho Dheri Road Side B', 'C:\\\\Users\\\\fbpza\\\\Desktop\\\\My_utils\\\\Data\\\\Mardan B dummy\\\\Merged with kacha cleaned\\\\roads\\\\MPremixhi branch to Dheri Likpani upto Alo', 'C:\\\\Users\\\\fbpza\\\\Desktop\\\\My_utils\\\\Data\\\\Mardan B dummy\\\\Merged with kacha cleaned\\\\roads\\\\Nadir Sher Killi Qutub Garh Road', 'C:\\\\Users\\\\fbpza\\\\Desktop\\\\My_utils\\\\Data\\\\Mardan B dummy\\\\Merged with kacha cleaned\\\\roads\\\\Nakhtar Banda Road', 'C:\\\\Users\\\\fbpza\\\\Desktop\\\\My_utils\\\\Data\\\\Mardan B dummy\\\\Merged with kacha cleaned\\\\roads\\\\Narai Wala to Shahnoor Pull', 'C:\\\\Users\\\\fbpza\\\\Desktop\\\\My_utils\\\\Data\\\\Mardan B dummy\\\\Merged with kacha cleaned\\\\roads\\\\Narshak upto Bala Garhi Road', 'C:\\\\Users\\\\fbpza\\\\Desktop\\\\My_utils\\\\Data\\\\Mardan B dummy\\\\Merged with kacha cleaned\\\\roads\\\\Nasim Abad Mian Killi Road', 'C:\\\\Users\\\\fbpza\\\\Desktop\\\\My_utils\\\\Data\\\\Mardan B dummy\\\\Merged with kacha cleaned\\\\roads\\\\Nawa Killi Toru Road from Canal to Toru Side A', 'C:\\\\Users\\\\fbpza\\\\Desktop\\\\My_utils\\\\Data\\\\Mardan B dummy\\\\Merged with kacha cleaned\\\\roads\\\\Nawa Killi Toru Road from Canal to Toru Side B', 'C:\\\\Users\\\\fbpza\\\\Desktop\\\\My_utils\\\\Data\\\\Mardan B dummy\\\\Merged with kacha cleaned\\\\roads\\\\Pamjan Akram Killi Road', 'C:\\\\Users\\\\fbpza\\\\Desktop\\\\My_utils\\\\Data\\\\Mardan B dummy\\\\Merged with kacha cleaned\\\\roads\\\\Par Hoti Chowki to Hoti Bridge Road', 'C:\\\\Users\\\\fbpza\\\\Desktop\\\\My_utils\\\\Data\\\\Mardan B dummy\\\\Merged with kacha cleaned\\\\roads\\\\Pir Abad Kati Garhi Road', 'C:\\\\Users\\\\fbpza\\\\Desktop\\\\My_utils\\\\Data\\\\Mardan B dummy\\\\Merged with kacha cleaned\\\\roads\\\\Pump Kuroona to Husai Road', 'C:\\\\Users\\\\fbpza\\\\Desktop\\\\My_utils\\\\Data\\\\Mardan B dummy\\\\Merged with kacha cleaned\\\\roads\\\\Rustam Barigan BeroPremixh Road', 'C:\\\\Users\\\\fbpza\\\\Desktop\\\\My_utils\\\\Data\\\\Mardan B dummy\\\\Merged with kacha cleaned\\\\roads\\\\Rustam Machi Road upto Tata Village', 'C:\\\\Users\\\\fbpza\\\\Desktop\\\\My_utils\\\\Data\\\\Mardan B dummy\\\\Merged with kacha cleaned\\\\roads\\\\Rustam Malandri upto Masoom Baba to Buner Road', 'C:\\\\Users\\\\fbpza\\\\Desktop\\\\My_utils\\\\Data\\\\Mardan B dummy\\\\Merged with kacha cleaned\\\\roads\\\\Rustam Pirsai Badam Road', 'C:\\\\Users\\\\fbpza\\\\Desktop\\\\My_utils\\\\Data\\\\Mardan B dummy\\\\Merged with kacha cleaned\\\\roads\\\\Rustam Pirsai Road to Landi Killi', 'C:\\\\Users\\\\fbpza\\\\Desktop\\\\My_utils\\\\Data\\\\Mardan B dummy\\\\Merged with kacha cleaned\\\\roads\\\\Said Abad Chanchano Khat', 'C:\\\\Users\\\\fbpza\\\\Desktop\\\\My_utils\\\\Data\\\\Mardan B dummy\\\\Merged with kacha cleaned\\\\roads\\\\Said Abad Kati Garhi Road', 'C:\\\\Users\\\\fbpza\\\\Desktop\\\\My_utils\\\\Data\\\\Mardan B dummy\\\\Merged with kacha cleaned\\\\roads\\\\Said Abad Road to Qalla', 'C:\\\\Users\\\\fbpza\\\\Desktop\\\\My_utils\\\\Data\\\\Mardan B dummy\\\\Merged with kacha cleaned\\\\roads\\\\Saro Shah to Shah Baig A to B', 'C:\\\\Users\\\\fbpza\\\\Desktop\\\\My_utils\\\\Data\\\\Mardan B dummy\\\\Merged with kacha cleaned\\\\roads\\\\Saro Shah to Shah Baig B to A', 'C:\\\\Users\\\\fbpza\\\\Desktop\\\\My_utils\\\\Data\\\\Mardan B dummy\\\\Merged with kacha cleaned\\\\roads\\\\Saro Shah To Takkar', 'C:\\\\Users\\\\fbpza\\\\Desktop\\\\My_utils\\\\Data\\\\Mardan B dummy\\\\Merged with kacha cleaned\\\\roads\\\\Shah Dhand Fatima Road', 'C:\\\\Users\\\\fbpza\\\\Desktop\\\\My_utils\\\\Data\\\\Mardan B dummy\\\\Merged with kacha cleaned\\\\roads\\\\Shah milat Safi Abad Zarify Road', 'C:\\\\Users\\\\fbpza\\\\Desktop\\\\My_utils\\\\Data\\\\Mardan B dummy\\\\Merged with kacha cleaned\\\\roads\\\\Shamozai Collector road 1', 'C:\\\\Users\\\\fbpza\\\\Desktop\\\\My_utils\\\\Data\\\\Mardan B dummy\\\\Merged with kacha cleaned\\\\roads\\\\Shamozai Collector road 2', 'C:\\\\Users\\\\fbpza\\\\Desktop\\\\My_utils\\\\Data\\\\Mardan B dummy\\\\Merged with kacha cleaned\\\\roads\\\\Sher Abad Road', 'C:\\\\Users\\\\fbpza\\\\Desktop\\\\My_utils\\\\Data\\\\Mardan B dummy\\\\Merged with kacha cleaned\\\\roads\\\\Shergarh Badraga Road', 'C:\\\\Users\\\\fbpza\\\\Desktop\\\\My_utils\\\\Data\\\\Mardan B dummy\\\\Merged with kacha cleaned\\\\roads\\\\Shikray Baba Sawaldher Road', 'C:\\\\Users\\\\fbpza\\\\Desktop\\\\My_utils\\\\Data\\\\Mardan B dummy\\\\Merged with kacha cleaned\\\\roads\\\\Sikandari Par Hoti Road', 'C:\\\\Users\\\\fbpza\\\\Desktop\\\\My_utils\\\\Data\\\\Mardan B dummy\\\\Merged with kacha cleaned\\\\roads\\\\Sikandari Serai Kuroona Road', 'C:\\\\Users\\\\fbpza\\\\Desktop\\\\My_utils\\\\Data\\\\Mardan B dummy\\\\Merged with kacha cleaned\\\\roads\\\\Surkhabi Road', 'C:\\\\Users\\\\fbpza\\\\Desktop\\\\My_utils\\\\Data\\\\Mardan B dummy\\\\Merged with kacha cleaned\\\\roads\\\\Taus Babeni Road', 'C:\\\\Users\\\\fbpza\\\\Desktop\\\\My_utils\\\\Data\\\\Mardan B dummy\\\\Merged with kacha cleaned\\\\roads\\\\Tordher Chowk to Pir Saddi', 'C:\\\\Users\\\\fbpza\\\\Desktop\\\\My_utils\\\\Data\\\\Mardan B dummy\\\\Merged with kacha cleaned\\\\roads\\\\Younas Stadium to Pirano Daga Sikandari Road']\n",
      "Done!\n"
     ]
    }
   ],
   "source": [
    "# Part B: Copying files from source to target dirctories\n",
    "import os\n",
    "import shutil\n",
    "import glob\n",
    "\n",
    "source_path = r'C:\\Users\\fbpza\\Desktop\\My_utils\\Data\\Mardan B dummy\\Merged with kacha cleaned'  # The path where the reports and other files are located\n",
    "\n",
    "seg_files_to_del=[ 'detected_DJI',\n",
    "                    'Detection.csv',\n",
    "                    '_Depth_Anything',\n",
    "                    '.png',\n",
    "                    '_Classification',\n",
    "                    '.kml']\n",
    "\n",
    "\n",
    "\n",
    "roadsList=glob.glob(source_path+os.sep+'roads'+os.sep+'*')\n",
    "print(roadsList)\n",
    "for road_path in roadsList:\n",
    "    road_name = os.path.basename(road_path)\n",
    "\n",
    "    seg_list=glob.glob(road_path+os.sep+'segments'+os.sep+'*')\n",
    "    for each_seg in seg_list:\n",
    "        seg_name=os.path.basename(each_seg)\n",
    "        seg_files=[j for j in glob.glob(each_seg+os.sep+'*') if not os.path.isdir(j)]\n",
    "        \n",
    "        for s_file in seg_files:\n",
    "            s_file_name=os.path.basename(s_file)\n",
    "            for strr2 in seg_files_to_del:    \n",
    "                if strr2 in s_file:\n",
    "                    os.remove(s_file)\n",
    "\n",
    "print('Done!')"
   ]
  },
  {
   "cell_type": "code",
   "execution_count": null,
   "metadata": {},
   "outputs": [],
   "source": []
  }
 ],
 "metadata": {
  "kernelspec": {
   "display_name": "myyolov8testClone",
   "language": "python",
   "name": "python3"
  },
  "language_info": {
   "codemirror_mode": {
    "name": "ipython",
    "version": 3
   },
   "file_extension": ".py",
   "mimetype": "text/x-python",
   "name": "python",
   "nbconvert_exporter": "python",
   "pygments_lexer": "ipython3",
   "version": "3.10.13"
  }
 },
 "nbformat": 4,
 "nbformat_minor": 2
}
