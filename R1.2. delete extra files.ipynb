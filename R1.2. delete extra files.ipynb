{
 "cells": [
  {
   "cell_type": "code",
   "execution_count": 1,
   "metadata": {},
   "outputs": [
    {
     "name": "stdout",
     "output_type": "stream",
     "text": [
      "No roads missing in part 1.\n",
      "No roads missing in part 2.\n"
     ]
    }
   ],
   "source": [
    "# Part A: Checking source and target directories' names before copying files from source to target\n",
    "import os\n",
    "from difflib import get_close_matches\n",
    "\n",
    "# Define the paths to the two parts\n",
    "part1_path = 'path/to/part1'  # The path where the videos are located\n",
    "part2_path = 'path/to/part2'  # The path where the reports and other files are located\n",
    "\n",
    "def get_road_names(base_path):\n",
    "    \"\"\"Retrieve the list of road names (directories) in the given base path.\"\"\"\n",
    "    return set(os.path.relpath(os.path.join(dp, dn), base_path) \n",
    "               for dp, dn, _ in os.walk(base_path) \n",
    "               for dn in dp.split(os.sep))\n",
    "\n",
    "def find_closest_match(road, road_list):\n",
    "    \"\"\"Find the closest match for a road name in the given list.\"\"\"\n",
    "    matches = get_close_matches(road, road_list, n=1, cutoff=0.6)\n",
    "    return matches[0] if matches else None\n",
    "\n",
    "def find_missing_roads_with_closest_match(part1_path, part2_path):\n",
    "    # Get the road names from both parts\n",
    "    part1_roads = get_road_names(part1_path)\n",
    "    part2_roads = get_road_names(part2_path)\n",
    "\n",
    "    # Find roads missing in part 1\n",
    "    missing_in_part1 = part2_roads - part1_roads\n",
    "    # Find roads missing in part 2\n",
    "    missing_in_part2 = part1_roads - part2_roads\n",
    "\n",
    "    # Find closest matches for missing roads\n",
    "    missing_in_part1_with_matches = {\n",
    "        road: find_closest_match(road, part1_roads) for road in missing_in_part1\n",
    "    }\n",
    "    missing_in_part2_with_matches = {\n",
    "        road: find_closest_match(road, part2_roads) for road in missing_in_part2\n",
    "    }\n",
    "\n",
    "    return missing_in_part1_with_matches, missing_in_part2_with_matches\n",
    "\n",
    "# Call the function to find missing roads and their closest matches\n",
    "missing_in_part1_with_matches, missing_in_part2_with_matches = find_missing_roads_with_closest_match(part1_path, part2_path)\n",
    "\n",
    "# Output the results\n",
    "if missing_in_part1_with_matches:\n",
    "    print(\"Roads missing in part 1 with closest matches in part 2:\")\n",
    "    for road, match in missing_in_part1_with_matches.items():\n",
    "        print(f\"{road} -> Closest match in part 1: {match}\")\n",
    "else:\n",
    "    print(\"No roads missing in part 1.\")\n",
    "\n",
    "if missing_in_part2_with_matches:\n",
    "    print(\"\\nRoads missing in part 2 with closest matches in part 1:\")\n",
    "    for road, match in missing_in_part2_with_matches.items():\n",
    "        print(f\"{road} -> Closest match in part 2: {match}\")\n",
    "else:\n",
    "    print(\"No roads missing in part 2.\")\n"
   ]
  },
  {
   "cell_type": "code",
   "execution_count": 4,
   "metadata": {},
   "outputs": [
    {
     "name": "stdout",
     "output_type": "stream",
     "text": [
      "Done!\n"
     ]
    }
   ],
   "source": [
    "# Part B: Copying files from source to target dirctories\n",
    "import os\n",
    "import shutil\n",
    "import glob\n",
    "\n",
    "source_path = r'C:\\Users\\fbpza\\Desktop\\My_utils\\Data\\C&S related\\dummy report data\\Haripur'  # The path where the reports and other files are located\n",
    "\n",
    "seg_files_to_del=[ 'detected_DJI',\n",
    "                    'Detection.csv',\n",
    "                    '_Depth_Anything',\n",
    "                    '.png',\n",
    "                    '_Classification',\n",
    "                    '.kml']\n",
    "\n",
    "\n",
    "\n",
    "roadsList=glob.glob(source_path+os.sep+'roads'+os.sep+'*')\n",
    "\n",
    "for road_path in roadsList:\n",
    "    road_name = os.path.basename(road_path)\n",
    "\n",
    "    seg_list=glob.glob(road_path+os.sep+'segments'+os.sep+'*')\n",
    "    for each_seg in seg_list:\n",
    "        seg_name=os.path.basename(each_seg)\n",
    "        seg_files=[j for j in glob.glob(each_seg+os.sep+'*') if not os.path.isdir(j)]\n",
    "        \n",
    "        for s_file in seg_files:\n",
    "            s_file_name=os.path.basename(s_file)\n",
    "            for strr2 in seg_files_to_del:    \n",
    "                if strr2 in s_file:\n",
    "                    os.remove(s_file)\n",
    "\n",
    "print('Done!')"
   ]
  },
  {
   "cell_type": "code",
   "execution_count": null,
   "metadata": {},
   "outputs": [],
   "source": []
  }
 ],
 "metadata": {
  "kernelspec": {
   "display_name": "myyolov8testClone",
   "language": "python",
   "name": "python3"
  },
  "language_info": {
   "codemirror_mode": {
    "name": "ipython",
    "version": 3
   },
   "file_extension": ".py",
   "mimetype": "text/x-python",
   "name": "python",
   "nbconvert_exporter": "python",
   "pygments_lexer": "ipython3",
   "version": "3.10.13"
  }
 },
 "nbformat": 4,
 "nbformat_minor": 2
}
