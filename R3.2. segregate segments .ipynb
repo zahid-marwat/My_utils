{
 "cells": [
  {
   "cell_type": "code",
   "execution_count": null,
   "metadata": {},
   "outputs": [],
   "source": [
    "import shutil\n",
    "import os,glob"
   ]
  },
  {
   "cell_type": "code",
   "execution_count": null,
   "metadata": {},
   "outputs": [],
   "source": [
    "def find_district_directory(dummy_data_dir):\n",
    "    \n",
    "    return [i for i in next(os.walk(dummy_data_dir))[1]][0]\n",
    "\n",
    "\n",
    "def find_road_directories(district):\n",
    "\n",
    "    return [i for i in (glob.glob(district + os.sep + 'roads' + os.sep + '*')) if os.path.isdir(i)]\n",
    "\n",
    "def split_roads_among_pcs(roads_list, num_pcs):\n",
    "    \"\"\"\n",
    "    Split entire roads (without splitting segments) among PCs.\n",
    "    :param roads_list: List of roads (paths) to distribute.\n",
    "    :param num_pcs: Number of PCs.\n",
    "    :return: List of lists where each sublist represents roads assigned to a specific PC.\n",
    "    \"\"\"\n",
    "    # Sort roads by the number of segments (descending) to better distribute heavy roads first\n",
    "    sorted_roads = sorted(roads_list, key=lambda x: len(os.listdir(os.path.join(x, 'segments'))), reverse=True)\n",
    "    \n",
    "    # Initialize lists to hold road assignments for each PC and track the segment count for each PC\n",
    "    pcs = [[] for _ in range(num_pcs)]\n",
    "    pc_segments = [0] * num_pcs\n",
    "    \n",
    "    # Assign each road to the PC with the least number of segments so far\n",
    "    for road in sorted_roads:\n",
    "        segments_count = len(os.listdir(os.path.join(road, 'segments')))\n",
    "        min_pc = pc_segments.index(min(pc_segments))  # Find the PC with the fewest segments\n",
    "        pcs[min_pc].append((road, segments_count))  # Assign the road and its segment count to this PC\n",
    "        pc_segments[min_pc] += segments_count  # Update the segment count for the PC\n",
    "    \n",
    "    return pcs\n",
    "\n",
    "def copy_road_to_pc_folders(pcs_allocation, base_path):\n",
    "    \"\"\"\n",
    "    Copy the entire road folder (including the 'segments' folder and any additional files) \n",
    "    to the corresponding PC folder. Also, print the number of roads and segments in each PC.\n",
    "    :param pcs_allocation: List of lists, with roads allocated to each PC.\n",
    "    :param base_path: Base path where PC folders will be created.\n",
    "    \"\"\"\n",
    "    for pc_num, roads in enumerate(pcs_allocation):\n",
    "        pc_folder = os.path.join(base_path, f'PC_{pc_num + 1}')\n",
    "        os.makedirs(pc_folder, exist_ok=True)\n",
    "        \n",
    "        total_segments = 0  # To track total segments for this PC\n",
    "        print(f\"PC_{pc_num + 1}:\")\n",
    "        \n",
    "        for road, segments_count in roads:\n",
    "            # Road directory path (the entire road folder, not just 'segments')\n",
    "            road_dst = os.path.join(pc_folder+os.sep+'District'+os.sep+\"roads\", os.path.basename(road))\n",
    "            \n",
    "            # Copy the entire road folder (including files and 'segments' subfolder)\n",
    "            try:\n",
    "                shutil.copytree(road, road_dst)\n",
    "                # print(f\"  - Copied entire road '{os.path.basename(road)}' with {segments_count} segments.\")\n",
    "                total_segments += segments_count\n",
    "            except Exception as e:\n",
    "                print(f\"Failed to copy {road} to {road_dst}: {e}\")\n",
    "        \n",
    "        print(f\"Total roads: {len(roads)}, Total segments: {total_segments}\\n\")"
   ]
  },
  {
   "cell_type": "code",
   "execution_count": null,
   "metadata": {},
   "outputs": [],
   "source": [
    "num_pcs = 3\n",
    "\n",
    "main_dir = 'Data'+ os.sep +'C&S related'+ os.sep +'dummy report data'\n",
    "distt = find_district_directory(main_dir)\n",
    "distt_path = main_dir + os.sep + distt\n",
    "base_roads_folder = distt_path + os.sep + 'roads'\n",
    "base_path = 'Data'+ os.sep +'C&S related'+ os.sep +'segregated data'\n",
    "\n",
    "# Get the list of road directories\n",
    "roads_list = [os.path.join(base_roads_folder, road) for road in os.listdir(base_roads_folder) if os.path.isdir(os.path.join(base_roads_folder, road))]\n",
    "\n",
    "# Step 1: Split roads among PCs without splitting a road between PCs\n",
    "pcs_allocation = split_roads_among_pcs(roads_list, num_pcs)\n",
    "\n",
    "# Step 2: Copy 'segments' to corresponding PC folders and print stats\n",
    "copy_road_to_pc_folders(pcs_allocation, base_path)\n",
    "\n",
    "print('------  DONE  -------')\n"
   ]
  }
 ],
 "metadata": {
  "kernelspec": {
   "display_name": "dle",
   "language": "python",
   "name": "python3"
  },
  "language_info": {
   "codemirror_mode": {
    "name": "ipython",
    "version": 3
   },
   "file_extension": ".py",
   "mimetype": "text/x-python",
   "name": "python",
   "nbconvert_exporter": "python",
   "pygments_lexer": "ipython3",
   "version": "3.10.13"
  }
 },
 "nbformat": 4,
 "nbformat_minor": 2
}
