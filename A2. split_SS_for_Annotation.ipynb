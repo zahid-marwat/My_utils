{
 "cells": [
  {
   "cell_type": "code",
   "execution_count": null,
   "metadata": {},
   "outputs": [],
   "source": [
    "import glob\n",
    "import os\n",
    "import shutil\n",
    "from pathlib import Path\n",
    "roads= glob.glob('Data'+os.sep+'SS related'+os.sep+'*')\n",
    "all_imgs_list = glob.glob(os.path.join('Data'+os.sep+'SS related'+os.sep, '**', '*.jpg'), recursive=True)\n",
    "splitdir='Data'+os.sep+'Split SS Data'+os.sep+'PC'"
   ]
  },
  {
   "cell_type": "code",
   "execution_count": null,
   "metadata": {},
   "outputs": [],
   "source": [
    "def copyimages(list,destdir):\n",
    "    \"\"\"Copy images from a list of image paths to a new directory.\"\"\"\n",
    "\n",
    "    # Create a new directory to store the copied images\n",
    "    os.makedirs(destdir, exist_ok=True)\n",
    "    \n",
    "    # Loop through each image path in the list\n",
    "    for roadlist in list:\n",
    "        for file in roadlist:\n",
    "            # Get the image file name and extension\n",
    "            newDest=destdir+os.sep+ file.split('SS related'+os.sep)[-1]\n",
    "            dirr=os.path.dirname(newDest)\n",
    "            os.makedirs(dirr, exist_ok=True)\n",
    "            shutil.copy(file, newDest)\n",
    "            \n",
    "        "
   ]
  },
  {
   "cell_type": "code",
   "execution_count": null,
   "metadata": {},
   "outputs": [],
   "source": [
    "total_images=len(all_imgs_list)\n",
    "total_pcs=3\n",
    "images_per_PC=total_images/total_pcs\n",
    "counter=0\n",
    "counterPC=1\n",
    "imagestobecopied=[]\n",
    "\n",
    "print('Total ScreenShots: ', total_images)\n",
    "for i in roads:\n",
    "    roadname= i.split(os.sep)[-1]\n",
    "\n",
    "\n",
    "    imgs_list = glob.glob(os.path.join(i, '**', '*.jpg'), recursive=True) \n",
    "    counter += len(imgs_list)\n",
    "    imagestobecopied.append(imgs_list)\n",
    "    \n",
    "    if counter > images_per_PC:\n",
    "        distDir=splitdir+str(counterPC)\n",
    "        copyimages(imagestobecopied,distDir)\n",
    "        print(f'Images in PC{str(counterPC)} :',counter)\n",
    "        imagestobecopied=[]\n",
    "        counter=0\n",
    "        counterPC +=1\n",
    "\n",
    "    elif counterPC == total_pcs :\n",
    "        distDir=splitdir+str(counterPC)\n",
    "        copyimages(imagestobecopied,distDir)\n",
    "        print(f'Images in PC{str(counterPC)} :',counter)\n",
    "\n",
    "print(\"All SET !\")"
   ]
  },
  {
   "cell_type": "code",
   "execution_count": null,
   "metadata": {},
   "outputs": [],
   "source": []
  }
 ],
 "metadata": {
  "kernelspec": {
   "display_name": "yolov8test",
   "language": "python",
   "name": "python3"
  },
  "language_info": {
   "codemirror_mode": {
    "name": "ipython",
    "version": 3
   },
   "file_extension": ".py",
   "mimetype": "text/x-python",
   "name": "python",
   "nbconvert_exporter": "python",
   "pygments_lexer": "ipython3",
   "version": "3.10.13"
  }
 },
 "nbformat": 4,
 "nbformat_minor": 2
}
