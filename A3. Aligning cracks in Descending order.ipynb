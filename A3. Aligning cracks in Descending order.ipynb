{
 "cells": [
  {
   "cell_type": "code",
   "execution_count": 1,
   "metadata": {},
   "outputs": [
    {
     "name": "stdout",
     "output_type": "stream",
     "text": [
      "Sorting complete.\n"
     ]
    }
   ],
   "source": [
    "import os\n",
    "import glob\n",
    "\n",
    "def calculate_area(width, height):\n",
    "    return width * height\n",
    "\n",
    "def sort_annotations_by_area(file_path):\n",
    "    with open(file_path, 'r') as file:\n",
    "        lines = file.readlines()\n",
    "    \n",
    "    annotations = []\n",
    "    for line in lines:\n",
    "        parts = line.strip().split()\n",
    "        class_id = int(parts[0])\n",
    "        x_center = float(parts[1])\n",
    "        y_center = float(parts[2])\n",
    "        width = float(parts[3])\n",
    "        height = float(parts[4])\n",
    "        \n",
    "        area = calculate_area(width, height)\n",
    "        annotations.append((class_id, x_center, y_center, width, height, area))\n",
    "    \n",
    "    # Sort annotations by area in descending order\n",
    "    annotations.sort(key=lambda x: x[5], reverse=True)\n",
    "    \n",
    "    sorted_lines = [f\"{ann[0]} {ann[1]} {ann[2]} {ann[3]} {ann[4]}\\n\" for ann in annotations]\n",
    "    \n",
    "    with open(file_path, 'w') as file:\n",
    "        file.writelines(sorted_lines)\n",
    "\n",
    "# Directory containing the label files\n",
    "labels_list = glob.glob(os.path.join(r\"F:\\DRAZ DROOZ AKHWA KEGAI\", '**', '*.txt'), recursive=True)\n",
    "# print(len(labels_list))# Process each label file\n",
    "for label_file in labels_list:\n",
    "    if 'classes.txt' not in label_file:\n",
    "        # print(label_file)\n",
    "        sort_annotations_by_area(label_file)\n",
    "\n",
    "print(\"Sorting complete.\")\n"
   ]
  }
 ],
 "metadata": {
  "kernelspec": {
   "display_name": "yolov8test",
   "language": "python",
   "name": "python3"
  },
  "language_info": {
   "codemirror_mode": {
    "name": "ipython",
    "version": 3
   },
   "file_extension": ".py",
   "mimetype": "text/x-python",
   "name": "python",
   "nbconvert_exporter": "python",
   "pygments_lexer": "ipython3",
   "version": "3.10.13"
  }
 },
 "nbformat": 4,
 "nbformat_minor": 2
}
